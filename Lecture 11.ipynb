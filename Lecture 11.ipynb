{
 "cells": [
  {
   "cell_type": "markdown",
   "id": "ec59cb48-ffc1-4bf7-afe5-ef4dbb1a7097",
   "metadata": {},
   "source": [
    "Using Long Short-Term Memory Networks (LSTMs) for time series forecasting:\n",
    "\n",
    "1. Univariate LSTM Models\n",
    "2. Multivariate LSTM Models\n",
    "3. Multi-step LSTM Models\n",
    "4. Multivariate Multi-step LSTM Models"
   ]
  },
  {
   "cell_type": "markdown",
   "id": "c7494c17-d3a7-4eef-81ed-9cb133d45711",
   "metadata": {},
   "source": [
    "### 1. Univariate LSTM Models:\n",
    "1. Data Preparation.\n",
    "2. Vanilla LSTM.\n",
    "3. Stacked LSTM.\n",
    "4. Bidirectional LSTM.\n",
    "5. CNN-LSTM.\n",
    "6. ConvLSTM.   "
   ]
  },
  {
   "cell_type": "markdown",
   "id": "3367e48d-a6c3-4dfd-9a99-f57ad21fc27c",
   "metadata": {},
   "source": [
    "### 1.1. Data Preparation"
   ]
  },
  {
   "cell_type": "code",
   "execution_count": 4,
   "id": "5694e7ea-f3ce-4b00-8ae5-9f9d76886592",
   "metadata": {},
   "outputs": [],
   "source": [
    "import numpy as np\n",
    "import yfinance as yf \n",
    "import tensorflow as tf\n",
    "import matplotlib.pyplot as plt\n",
    "from keras.models import Sequential\n",
    "from tensorflow.keras.models import Model\n",
    "from sklearn.preprocessing import MinMaxScaler\n",
    "from keras.layers import Input, LSTM, Dense, Dropout, Bidirectional, MaxPooling1D, Conv1D, TimeDistributed, Flatten, ConvLSTM2D, RepeatVector, TimeDistributed"
   ]
  },
  {
   "cell_type": "code",
   "execution_count": 72,
   "id": "e5f40771-5d9c-48e2-8b9f-cebea6b73e6c",
   "metadata": {},
   "outputs": [],
   "source": [
    "def split_sequence(sequence, n_steps):\n",
    "    X, y = [], []\n",
    "    \n",
    "    # Iterate over the sequence to create input-output pairs\n",
    "    for i in range(len(sequence) - n_steps):\n",
    "        # Extract input and output parts of the sequence\n",
    "        seq_x = sequence[i:i + n_steps]\n",
    "        seq_y = sequence[i + n_steps]\n",
    "        X.append(seq_x)\n",
    "        y.append(seq_y)\n",
    "    \n",
    "    return np.array(X), np.array(y)"
   ]
  },
  {
   "cell_type": "markdown",
   "id": "929a9fcd-71d0-4397-bcc2-760fe8f44ceb",
   "metadata": {},
   "source": [
    "Divide the sequence into multiple input/output patterns called samples, where three time steps are used as input and one time step is used as output for the one-step preidction."
   ]
  },
  {
   "cell_type": "code",
   "execution_count": 5,
   "id": "b314e9ba-d877-4cec-ba24-bd6e18d1b49f",
   "metadata": {},
   "outputs": [
    {
     "name": "stdout",
     "output_type": "stream",
     "text": [
      "[10 20 30] 40\n",
      "[20 30 40] 50\n",
      "[30 40 50] 60\n",
      "[40 50 60] 70\n",
      "[50 60 70] 80\n",
      "[60 70 80] 90\n"
     ]
    }
   ],
   "source": [
    "# define input sequence\n",
    "raw_seq = [10, 20, 30, 40, 50, 60, 70, 80, 90]\n",
    "# choose a number of time steps\n",
    "n_steps = 3\n",
    "# split into samples\n",
    "X, y = split_sequence(raw_seq, n_steps)\n",
    "# summarize the data\n",
    "for i in range(len(X)):\n",
    "    print(X[i], y[i])"
   ]
  },
  {
   "cell_type": "markdown",
   "id": "9976b3f6-2d55-4d80-a25a-4fb9a63f38a1",
   "metadata": {},
   "source": [
    "### 1.2. Vanilla LSTM"
   ]
  },
  {
   "cell_type": "code",
   "execution_count": 11,
   "id": "105abcb5-e0a3-461d-bd5f-4a836f154f02",
   "metadata": {},
   "outputs": [
    {
     "name": "stdout",
     "output_type": "stream",
     "text": [
      "[[101.9163]]\n"
     ]
    }
   ],
   "source": [
    "# Define input sequence\n",
    "raw_seq = [10, 20, 30, 40, 50, 60, 70, 80, 90]\n",
    "\n",
    "# Choose number of time steps\n",
    "n_steps = 3\n",
    "\n",
    "# Split sequence into samples\n",
    "X, y = split_sequence(raw_seq, n_steps)\n",
    "\n",
    "# Reshape data into [samples, timesteps, features]\n",
    "n_features = 1\n",
    "X = X.reshape((X.shape[0], X.shape[1], n_features))\n",
    "\n",
    "# Define the LSTM model\n",
    "model = Sequential()\n",
    "model.add(LSTM(50, activation='relu', input_shape=(n_steps, n_features)))\n",
    "model.add(Dense(1))\n",
    "model.compile(optimizer='adam', loss='mse')\n",
    "\n",
    "# Fit the model\n",
    "model.fit(X, y, epochs=200, verbose=0)\n",
    "\n",
    "# Demonstrate prediction with new data\n",
    "x_input = np.array([70, 80, 90]).reshape((1, n_steps, n_features))\n",
    "yhat = model.predict(x_input, verbose=0)\n",
    "print(yhat)"
   ]
  },
  {
   "cell_type": "markdown",
   "id": "adf90243-5b4b-447c-83db-a1b597a91afc",
   "metadata": {},
   "source": [
    "### 1.3. Stacked LSTM\n",
    "A Stacked Long Short-Term Memory (LSTM) network is a deep learning model that consists of multiple LSTM layers stacked on top of each other. This architecture allows the model to capture more complex patterns and dependencies in sequential data by enabling higher-level feature extraction in the deeper layers. "
   ]
  },
  {
   "cell_type": "code",
   "execution_count": 21,
   "id": "adaa2e40-ef52-40c8-a1d5-d76e4d45d139",
   "metadata": {},
   "outputs": [
    {
     "name": "stdout",
     "output_type": "stream",
     "text": [
      "tf.Tensor([[104.283844]], shape=(1, 1), dtype=float32)\n"
     ]
    }
   ],
   "source": [
    "# Define the Stacked LSTM model\n",
    "model = Sequential()\n",
    "\n",
    "# Add the first LSTM layer with 50 units and ReLU activation\n",
    "# return_sequences=True allows the output to be fed to the next LSTM layer\n",
    "model.add(LSTM(50, activation='relu', return_sequences=True, input_shape=(n_steps, n_features)))\n",
    "\n",
    "# Add the second LSTM layer with 50 units and ReLU activation\n",
    "# This layer will receive the full sequence from the previous LSTM layer\n",
    "model.add(LSTM(50, activation='relu'))\n",
    "\n",
    "# Add a Dense layer with 1 unit to produce the final output\n",
    "model.add(Dense(1))\n",
    "\n",
    "# Compile the model with Adam optimizer and mean squared error loss\n",
    "model.compile(optimizer='adam', loss='mse')\n",
    "\n",
    "# fit model\n",
    "model.fit(X, y, epochs=200, verbose=0)\n",
    "\n",
    "# Demonstrate prediction with new data\n",
    "x_input = np.array([70, 80, 90]).reshape((1, n_steps, n_features))\n",
    "yhat = model(x_input)\n",
    "print(yhat)"
   ]
  },
  {
   "cell_type": "markdown",
   "id": "b800f35e-74d9-483d-bfe7-cf01dc54f5aa",
   "metadata": {},
   "source": [
    "### 1.4. Bidirectional LSTM\n",
    "A Bidirectional Long Short-Term Memory (BiLSTM) network is an extension of the traditional LSTM that improves its performance by processing data in both forward and backward directions. This allows the network to capture information from both past (backward) and future (forward) states simultaneously, making it more effective for tasks where context from both directions is essential. Bidirectional LSTMs are widely used in natural language processing, speech recognition, and time series forecasting."
   ]
  },
  {
   "cell_type": "code",
   "execution_count": 24,
   "id": "738dd13b-1496-46df-b304-e40016e3f195",
   "metadata": {},
   "outputs": [
    {
     "name": "stdout",
     "output_type": "stream",
     "text": [
      "tf.Tensor([[101.66552]], shape=(1, 1), dtype=float32)\n"
     ]
    }
   ],
   "source": [
    "# Define the Bidirectional LSTM model\n",
    "model = Sequential()\n",
    "\n",
    "# Add a Bidirectional LSTM layer with 50 units and ReLU activation\n",
    "# The input sequence is processed in both forward and backward directions\n",
    "model.add(Bidirectional(LSTM(50, activation='relu'), input_shape=(n_steps, n_features)))\n",
    "\n",
    "# Add a Dense layer with 1 unit to produce the final output\n",
    "model.add(Dense(1))\n",
    "\n",
    "# Compile the model with Adam optimizer and mean squared error loss\n",
    "model.compile(optimizer='adam', loss='mse')\n",
    "\n",
    "# fit model\n",
    "model.fit(X, y, epochs=200, verbose=0)\n",
    "\n",
    "# Demonstrate prediction with new data\n",
    "x_input = np.array([70, 80, 90]).reshape((1, n_steps, n_features))\n",
    "yhat = model(x_input)\n",
    "print(yhat)"
   ]
  },
  {
   "cell_type": "markdown",
   "id": "64afaff3-f005-40ec-b38e-82483f8571f4",
   "metadata": {},
   "source": [
    "### 1.5. CNN-LSTM\n",
    "A CNN-LSTM (Convolutional Neural Network - Long Short-Term Memory) network combines the feature extraction capabilities of CNNs with the sequence processing abilities of LSTMs. This architecture is particularly useful for problems where spatial patterns need to be recognized and then temporal dependencies need to be captured. CNN-LSTMs are widely used in fields like video analysis, time series forecasting, and natural language processing.\n",
    "\n",
    "__Advantages of CNN-LSTM:__\n",
    "- Enhanced Feature Extraction: CNN layers can extract spatial features from input data.\n",
    "- Temporal Sequence Modeling: LSTM layers capture temporal dependencies and sequential patterns.\n",
    "- Versatile Applications: Useful in applications such as video prediction, text classification, and multivariate time series forecasting."
   ]
  },
  {
   "cell_type": "code",
   "execution_count": 58,
   "id": "c4774624-341c-4c20-95f6-0cb4e57a337a",
   "metadata": {},
   "outputs": [
    {
     "name": "stdout",
     "output_type": "stream",
     "text": [
      "[[10 20 30 40]\n",
      " [20 30 40 50]\n",
      " [30 40 50 60]\n",
      " [40 50 60 70]\n",
      " [50 60 70 80]]\n",
      "========================================\n",
      "[[[[10]\n",
      "   [20]]\n",
      "\n",
      "  [[30]\n",
      "   [40]]]\n",
      "\n",
      "\n",
      " [[[20]\n",
      "   [30]]\n",
      "\n",
      "  [[40]\n",
      "   [50]]]\n",
      "\n",
      "\n",
      " [[[30]\n",
      "   [40]]\n",
      "\n",
      "  [[50]\n",
      "   [60]]]\n",
      "\n",
      "\n",
      " [[[40]\n",
      "   [50]]\n",
      "\n",
      "  [[60]\n",
      "   [70]]]\n",
      "\n",
      "\n",
      " [[[50]\n",
      "   [60]]\n",
      "\n",
      "  [[70]\n",
      "   [80]]]]\n"
     ]
    }
   ],
   "source": [
    "# Choose a number of time steps\n",
    "n_steps = 4\n",
    "raw_seq = [10, 20, 30, 40, 50, 60, 70, 80, 90]\n",
    "\n",
    "# Split into samples\n",
    "X, y = split_sequence(raw_seq, n_steps)\n",
    "print(X)\n",
    "print('=' * 40)\n",
    "# Reshape from [samples, timesteps] into [samples, subsequences, timesteps, features]\n",
    "n_features = 1\n",
    "n_seq = 2  # Number of subsequences\n",
    "n_steps = 2  # Timesteps per subsequence\n",
    "X = X.reshape((X.shape[0], n_seq, n_steps, n_features))\n",
    "print(X)"
   ]
  },
  {
   "cell_type": "code",
   "execution_count": 59,
   "id": "2b119955-d653-4b30-b09d-83b11f63b05b",
   "metadata": {},
   "outputs": [
    {
     "data": {
      "text/plain": [
       "array([[[10],\n",
       "        [20]],\n",
       "\n",
       "       [[30],\n",
       "        [40]]])"
      ]
     },
     "execution_count": 59,
     "metadata": {},
     "output_type": "execute_result"
    }
   ],
   "source": [
    "X[0]"
   ]
  },
  {
   "cell_type": "code",
   "execution_count": 60,
   "id": "ecbd4203-0efc-46ca-ae3c-945aecbbc4a2",
   "metadata": {},
   "outputs": [
    {
     "data": {
      "text/plain": [
       "array([[10],\n",
       "       [20]])"
      ]
     },
     "execution_count": 60,
     "metadata": {},
     "output_type": "execute_result"
    }
   ],
   "source": [
    "X[0][0]"
   ]
  },
  {
   "cell_type": "markdown",
   "id": "f057082e-bbd0-427b-b056-690d35497f04",
   "metadata": {},
   "source": [
    "__Consider a dataset with daily stock prices over 90 days:__\n",
    "\n",
    "- Raw Sequence: [10, 20, 30, ..., 90]\n",
    "\n",
    "1. Samples: Individual examples created from the raw sequence. If we use a sliding window approach with a window size of 4:\n",
    "- Sample 1: [10, 20, 30, 40]\n",
    "- Sample 2: [20, 30, 40, 50]\n",
    "- and so on...\n",
    "  \n",
    "2. Subsequences: Breaking down each sample into smaller parts. If each subsequence is 2 timesteps long:\n",
    "\n",
    "- For Sample 1 [10, 20, 30, 40], the subsequences would be: Subsequence 1: [10, 20] and Subsequence 2: [30, 40]\n",
    "  \n",
    "3. Timesteps: Individual data points within subsequences:\n",
    "- In Subsequence 1 [10, 20], the timesteps are 10 and 20.\n",
    "- In Subsequence 2 [30, 40], the timesteps are 30 and 40."
   ]
  },
  {
   "cell_type": "code",
   "execution_count": 61,
   "id": "3a30c1fa-d42c-40c2-a73c-ef5c262d3422",
   "metadata": {},
   "outputs": [
    {
     "name": "stdout",
     "output_type": "stream",
     "text": [
      "tf.Tensor([[101.143715]], shape=(1, 1), dtype=float32)\n"
     ]
    }
   ],
   "source": [
    "# Initialize the model\n",
    "model = Sequential()\n",
    "\n",
    "# Add a TimeDistributed Conv1D layer\n",
    "# This layer applies a 1D convolution to each subsequence independently\n",
    "model.add(TimeDistributed(Conv1D(filters=64, kernel_size=1, activation='relu'), input_shape=(None, n_steps, n_features)))\n",
    "\n",
    "# Add a TimeDistributed MaxPooling1D layer\n",
    "# This layer applies max pooling to each subsequence independently\n",
    "model.add(TimeDistributed(MaxPooling1D(pool_size=2)))\n",
    "\n",
    "# Add a TimeDistributed Flatten layer\n",
    "# This layer flattens the output of each subsequence independently\n",
    "model.add(TimeDistributed(Flatten()))\n",
    "\n",
    "# Add an LSTM layer\n",
    "# This layer processes the combined output of the CNN layers\n",
    "model.add(LSTM(50, activation='relu'))\n",
    "\n",
    "# Add a Dense output layer\n",
    "# This layer produces the final prediction\n",
    "model.add(Dense(1))\n",
    "\n",
    "# Compile the model\n",
    "model.compile(optimizer='adam', loss='mse')\n",
    "\n",
    "# Fit the model\n",
    "model.fit(X, y, epochs=500, verbose=0)\n",
    "\n",
    "# Demonstrate prediction\n",
    "x_input = np.array([60, 70, 80, 90])\n",
    "x_input = x_input.reshape((1, n_seq, n_steps, n_features))\n",
    "yhat = model(x_input)\n",
    "print(yhat)"
   ]
  },
  {
   "cell_type": "markdown",
   "id": "cd43ed36-b666-4648-be64-ba402af74c4d",
   "metadata": {},
   "source": [
    "### 1.6. ConvLSTM\n",
    "__CNN-LSTM:__\n",
    "It separates the convolutional and LSTM operations into distinct layers. First, CNN layers extract spatial features from the data. These features are then flattened and passed into LSTM layers to capture temporal dependencies. This architecture is useful for tasks where spatial feature extraction and temporal sequence modeling are distinct but sequential steps, such as activity recognition from video sequences, time series forecasting with spatial features, and more.\n",
    "\n",
    "- __Architecture:__ Convolutional layers are followed by LSTM layers.\n",
    "- __Advantages:__ Flexible architecture allowing for clear separation of spatial and temporal processing.\n",
    "- __Example Use Cases:__ time series forecasting with spatial features, speech recognition.\n",
    "\n",
    "__ConvLSTM:__\n",
    "It integrates the convolutional operations directly within the LSTM units. It uses convolutional structures to process the spatial dimensions (e.g., images or video frames) and LSTM structures to handle the temporal dependencies. This makes ConvLSTM particularly suitable for tasks where both spatial and temporal relationships need to be captured simultaneously, such as precipitation forecasting, video frame prediction, and more.\n",
    "\n",
    "- __Architecture:__ Convolution operations are embedded inside the LSTM cells.\n",
    "- __Advantages:__ Directly captures spatiotemporal correlations within a single layer. More efficient for tasks where spatial and temporal features are tightly coupled.\n",
    "- __Example Use Cases:__ Precipitation forecasting, video prediction, traffic flow prediction.\n"
   ]
  },
  {
   "cell_type": "code",
   "execution_count": 84,
   "id": "cbe88dc0-5587-4956-a2cb-132663d5933a",
   "metadata": {},
   "outputs": [
    {
     "name": "stdout",
     "output_type": "stream",
     "text": [
      "[[10 20 30 40]\n",
      " [20 30 40 50]\n",
      " [30 40 50 60]\n",
      " [40 50 60 70]\n",
      " [50 60 70 80]]\n",
      "==================================================\n",
      "[[[[[10]\n",
      "    [20]]]\n",
      "\n",
      "\n",
      "  [[[30]\n",
      "    [40]]]]\n",
      "\n",
      "\n",
      "\n",
      " [[[[20]\n",
      "    [30]]]\n",
      "\n",
      "\n",
      "  [[[40]\n",
      "    [50]]]]\n",
      "\n",
      "\n",
      "\n",
      " [[[[30]\n",
      "    [40]]]\n",
      "\n",
      "\n",
      "  [[[50]\n",
      "    [60]]]]\n",
      "\n",
      "\n",
      "\n",
      " [[[[40]\n",
      "    [50]]]\n",
      "\n",
      "\n",
      "  [[[60]\n",
      "    [70]]]]\n",
      "\n",
      "\n",
      "\n",
      " [[[[50]\n",
      "    [60]]]\n",
      "\n",
      "\n",
      "  [[[70]\n",
      "    [80]]]]]\n"
     ]
    }
   ],
   "source": [
    "# Define input sequence\n",
    "raw_seq = [10, 20, 30, 40, 50, 60, 70, 80, 90]\n",
    "\n",
    "# Choose a number of time steps\n",
    "n_steps = 4\n",
    "\n",
    "# Split into samples\n",
    "X, y = split_sequence(raw_seq, n_steps)\n",
    "print(X)\n",
    "print('=' * 50)\n",
    "\n",
    "# Reshape from [samples, timesteps] into [samples, timesteps, rows, columns, features]\n",
    "n_features = 1\n",
    "n_seq = 2  # Number of subsequences\n",
    "n_steps = 2  # Timesteps per subsequence\n",
    "X = X.reshape((X.shape[0], n_seq, 1, n_steps, n_features))\n",
    "print(X)"
   ]
  },
  {
   "cell_type": "code",
   "execution_count": 85,
   "id": "38a1e8a3-2c73-40fe-98d1-1fcc5cf13b21",
   "metadata": {},
   "outputs": [
    {
     "name": "stdout",
     "output_type": "stream",
     "text": [
      "tf.Tensor([[103.92204]], shape=(1, 1), dtype=float32)\n"
     ]
    }
   ],
   "source": [
    "# Initialize the model\n",
    "model = Sequential()\n",
    "\n",
    "# Add a ConvLSTM2D layer\n",
    "# This layer applies convolutional LSTM to the input data\n",
    "model.add(ConvLSTM2D(filters=64, kernel_size=(1, 2), activation='relu', input_shape=(n_seq, 1, n_steps, n_features)))\n",
    "\n",
    "# Flatten the output of the ConvLSTM2D layer\n",
    "# This layer converts the 3D output of ConvLSTM2D to 1D\n",
    "model.add(Flatten())\n",
    "\n",
    "# Add a Dense output layer\n",
    "# This layer produces the final prediction\n",
    "model.add(Dense(1))\n",
    "\n",
    "# Compile the model\n",
    "# Using Adam optimizer and mean squared error loss function\n",
    "model.compile(optimizer='adam', loss='mse')\n",
    "\n",
    "# Fit the model\n",
    "# Train the model on the reshaped data\n",
    "model.fit(X, y, epochs=500, verbose=0)\n",
    "\n",
    "# Demonstrate prediction\n",
    "# Prepare input data for prediction\n",
    "x_input = np.array([60, 70, 80, 90])\n",
    "x_input = x_input.reshape((1, n_seq, 1, n_steps, n_features))\n",
    "\n",
    "# Make a prediction\n",
    "yhat = model(x_input)\n",
    "print(yhat)"
   ]
  },
  {
   "cell_type": "markdown",
   "id": "0278d750-cf6a-4c87-968d-bd2f41a2b80d",
   "metadata": {},
   "source": [
    "### 2. Multivariate LSTM Models"
   ]
  },
  {
   "cell_type": "markdown",
   "id": "bef9daba-125d-4751-b948-5f5934939b07",
   "metadata": {},
   "source": [
    "### 2.1. Multiple Input Series"
   ]
  },
  {
   "cell_type": "code",
   "execution_count": 86,
   "id": "613a02f5-d5bb-4da5-a784-dde3bf792acf",
   "metadata": {},
   "outputs": [],
   "source": [
    "# Function to split a multivariate sequence into samples\n",
    "def split_sequences(sequences, n_steps):\n",
    "    X, y = [], []\n",
    "    for i in range(len(sequences) - n_steps + 1):\n",
    "        # Define the end index of the current sequence\n",
    "        end_ix = i + n_steps\n",
    "        # Extract input and output parts of the sequence\n",
    "        seq_x, seq_y = sequences[i:end_ix, :-1], sequences[end_ix-1, -1]\n",
    "        X.append(seq_x)\n",
    "        y.append(seq_y)\n",
    "    return np.array(X), np.array(y)"
   ]
  },
  {
   "cell_type": "code",
   "execution_count": 87,
   "id": "436a74ed-6bc7-4707-8f07-682343150c04",
   "metadata": {},
   "outputs": [
    {
     "name": "stdout",
     "output_type": "stream",
     "text": [
      "[[ 10  15  25]\n",
      " [ 20  25  45]\n",
      " [ 30  35  65]\n",
      " [ 40  45  85]\n",
      " [ 50  55 105]\n",
      " [ 60  65 125]\n",
      " [ 70  75 145]\n",
      " [ 80  85 165]\n",
      " [ 90  95 185]]\n"
     ]
    }
   ],
   "source": [
    "# Define input sequences and output sequence\n",
    "in_seq1 = np.array([10, 20, 30, 40, 50, 60, 70, 80, 90]).reshape(-1, 1)\n",
    "in_seq2 = np.array([15, 25, 35, 45, 55, 65, 75, 85, 95]).reshape(-1, 1)\n",
    "out_seq = (in_seq1 + in_seq2).reshape(-1, 1)\n",
    "\n",
    "# Horizontally stack columns to create the dataset\n",
    "dataset = np.hstack((in_seq1, in_seq2, out_seq))\n",
    "\n",
    "# Print the dataset\n",
    "print(dataset)"
   ]
  },
  {
   "cell_type": "code",
   "execution_count": 90,
   "id": "6abee868-0308-41cd-ad44-5e5d9b869bdf",
   "metadata": {},
   "outputs": [
    {
     "name": "stdout",
     "output_type": "stream",
     "text": [
      "(7, 3, 2) (7,)\n",
      "[[10 15]\n",
      " [20 25]\n",
      " [30 35]] 65\n",
      "[[20 25]\n",
      " [30 35]\n",
      " [40 45]] 85\n",
      "[[30 35]\n",
      " [40 45]\n",
      " [50 55]] 105\n",
      "[[40 45]\n",
      " [50 55]\n",
      " [60 65]] 125\n",
      "[[50 55]\n",
      " [60 65]\n",
      " [70 75]] 145\n",
      "[[60 65]\n",
      " [70 75]\n",
      " [80 85]] 165\n",
      "[[70 75]\n",
      " [80 85]\n",
      " [90 95]] 185\n"
     ]
    }
   ],
   "source": [
    "# choose a number of time steps\n",
    "n_steps = 3\n",
    "# the dataset knows the number of features, e.g. 2\n",
    "n_features = X.shape[2]\n",
    "# convert into input/output\n",
    "X, y = split_sequences(dataset, n_steps)\n",
    "print(X.shape, y.shape)\n",
    "# summarize the data\n",
    "for i in range(len(X)):\n",
    "    print(X[i], y[i])\n",
    "# The first dimension is the number of samples, in this case 7. \n",
    "# The second dimension is the number of time steps per sample, in this case 3, the value specified to the function. \n",
    "# The last dimension specifies the number of parallel time series or the number of variables, in this case 2 for the two parallel series."
   ]
  },
  {
   "cell_type": "code",
   "execution_count": 92,
   "id": "2f0cd531-85a6-47eb-987e-db3c99512e21",
   "metadata": {},
   "outputs": [
    {
     "name": "stdout",
     "output_type": "stream",
     "text": [
      "tf.Tensor([[206.04362]], shape=(1, 1), dtype=float32)\n"
     ]
    }
   ],
   "source": [
    "# Any of the varieties of LSTMs can be used, such as a Vanilla, Stacked, Bidirectional, CNN, or ConvLSTM model. \n",
    "# We will use a Vanilla LSTM where the number of time steps and parallel series (features) are specified for the input layer via the input shape argument.\n",
    "# Define and compile the Vanilla LSTM model\n",
    "model = Sequential()\n",
    "\n",
    "# Add LSTM layer with 50 units, ReLU activation, and specified input shape\n",
    "model.add(LSTM(50, activation='relu', input_shape=(n_steps, n_features)))\n",
    "\n",
    "# Add Dense layer with 1 unit to output the prediction\n",
    "model.add(Dense(1))\n",
    "\n",
    "# Compile the model with Adam optimizer and mean squared error loss function\n",
    "model.compile(optimizer='adam', loss='mse')\n",
    "\n",
    "# Fit the model on the dataset\n",
    "model.fit(X, y, epochs=200, verbose=0)\n",
    "\n",
    "# Demonstrate prediction with new input data\n",
    "# New input data, reshaped to fit the model's expected input shape\n",
    "x_input = np.array([[80, 85], [90, 95], [100, 105]])\n",
    "x_input = x_input.reshape((1, n_steps, n_features))\n",
    "\n",
    "# Make a prediction using the trained model\n",
    "yhat = model(x_input)\n",
    "print(yhat)"
   ]
  },
  {
   "cell_type": "markdown",
   "id": "acf76f34-003c-4f37-b89c-5221617ad591",
   "metadata": {},
   "source": [
    "### 2.2. Multiple Parallel Series"
   ]
  },
  {
   "cell_type": "code",
   "execution_count": 93,
   "id": "77df8067-82db-4b59-b2fb-4fee715086ca",
   "metadata": {},
   "outputs": [],
   "source": [
    "# Function to split a multivariate sequence into samples\n",
    "def split_sequences(sequences, n_steps):\n",
    "    X, y = [], []\n",
    "    for i in range(len(sequences) - n_steps):\n",
    "        end_ix = i + n_steps\n",
    "        seq_x, seq_y = sequences[i:end_ix, :], sequences[end_ix, :]\n",
    "        X.append(seq_x)\n",
    "        y.append(seq_y)\n",
    "    return np.array(X), np.array(y)"
   ]
  },
  {
   "cell_type": "code",
   "execution_count": 97,
   "id": "e952a8b4-f217-4105-b3b4-99a4654390b5",
   "metadata": {},
   "outputs": [
    {
     "name": "stdout",
     "output_type": "stream",
     "text": [
      "(6, 3, 3) (6, 3)\n",
      "[[10 15 25]\n",
      " [20 25 45]\n",
      " [30 35 65]] [40 45 85]\n",
      "[[20 25 45]\n",
      " [30 35 65]\n",
      " [40 45 85]] [ 50  55 105]\n",
      "[[ 30  35  65]\n",
      " [ 40  45  85]\n",
      " [ 50  55 105]] [ 60  65 125]\n",
      "[[ 40  45  85]\n",
      " [ 50  55 105]\n",
      " [ 60  65 125]] [ 70  75 145]\n",
      "[[ 50  55 105]\n",
      " [ 60  65 125]\n",
      " [ 70  75 145]] [ 80  85 165]\n",
      "[[ 60  65 125]\n",
      " [ 70  75 145]\n",
      " [ 80  85 165]] [ 90  95 185]\n"
     ]
    }
   ],
   "source": [
    "# Define input sequences\n",
    "in_seq1 = np.array([10, 20, 30, 40, 50, 60, 70, 80, 90])\n",
    "in_seq2 = np.array([15, 25, 35, 45, 55, 65, 75, 85, 95])\n",
    "out_seq = in_seq1 + in_seq2  # Output sequence is the sum of the input sequences\n",
    "\n",
    "in_seq1 = np.array([10, 20, 30, 40, 50, 60, 70, 80, 90]).reshape(-1, 1)\n",
    "in_seq2 = np.array([15, 25, 35, 45, 55, 65, 75, 85, 95]).reshape(-1, 1)\n",
    "out_seq = (in_seq1 + in_seq2).reshape(-1, 1)\n",
    "\n",
    "# Define the number of time steps\n",
    "n_steps = 3\n",
    "\n",
    "# Split the dataset into input (X) and output (y) samples\n",
    "X, y = split_sequences(dataset, n_steps)\n",
    "\n",
    "# Print the shapes of X and y\n",
    "print(X.shape, y.shape)\n",
    "\n",
    "# Summarize the data\n",
    "for i in range(len(X)):\n",
    "    print(X[i], y[i])\n",
    "\n",
    "# the dataset knows the number of features, e.g. 2\n",
    "n_features = X.shape[2]\n",
    "\n",
    "# The shape of X is three-dimensional, including the number of samples (6), \n",
    "# the number of time steps chosen per sample (3), \n",
    "# and the number of parallel time series or features (3)."
   ]
  },
  {
   "cell_type": "code",
   "execution_count": 98,
   "id": "2b0b4ca7-2daf-4d97-89a5-37a4b6a90c39",
   "metadata": {},
   "outputs": [
    {
     "name": "stdout",
     "output_type": "stream",
     "text": [
      "tf.Tensor([[100.13401  105.089096 205.372   ]], shape=(1, 3), dtype=float32)\n"
     ]
    }
   ],
   "source": [
    "# We will fit an LSTM model on this data. Any of the varieties of LSTMs in the previous section can be used, such as a Vanilla, Stacked, Bidirectional, CNN, or ConvLSTM model.\n",
    "# We will use a Stacked LSTM where the number of time steps and parallel series (features) are specified for the input layer via the input shape argument. \n",
    "\n",
    "# Define and compile the Stacked LSTM model\n",
    "model = Sequential()\n",
    "\n",
    "# Add first LSTM layer with 100 units, ReLU activation, and return sequences\n",
    "model.add(LSTM(100, activation='relu', return_sequences=True, input_shape=(n_steps, n_features)))\n",
    "\n",
    "# Add second LSTM layer with 100 units and ReLU activation\n",
    "model.add(LSTM(100, activation='relu'))\n",
    "\n",
    "# Add Dense layer with n_features units to output the prediction\n",
    "model.add(Dense(n_features))\n",
    "\n",
    "# Compile the model with Adam optimizer and mean squared error loss function\n",
    "model.compile(optimizer='adam', loss='mse')\n",
    "\n",
    "# Fit the model on the dataset\n",
    "model.fit(X, y, epochs=400, verbose=0)\n",
    "\n",
    "# Demonstrate prediction with new input data\n",
    "# New input data, reshaped to fit the model's expected input shape\n",
    "x_input = np.array([[70, 75, 145], [80, 85, 165], [90, 95, 185]])\n",
    "x_input = x_input.reshape((1, n_steps, n_features))\n",
    "\n",
    "# Make a prediction using the trained model\n",
    "yhat = model(x_input)\n",
    "print(yhat)"
   ]
  },
  {
   "cell_type": "markdown",
   "id": "31588a40-d3b5-4bd5-81d2-ec7c99a40f1c",
   "metadata": {},
   "source": [
    "### 3. Multi-step LSTM Models\n",
    "### 3.1. Vector Output Model"
   ]
  },
  {
   "cell_type": "code",
   "execution_count": 2,
   "id": "0dd9e1fb-c51c-46a9-aa20-f96e3920180b",
   "metadata": {},
   "outputs": [],
   "source": [
    "# Function to split a univariate sequence into samples\n",
    "def split_sequence(sequence, n_steps_in, n_steps_out):\n",
    "    X, y = [], []\n",
    "    for i in range(len(sequence) - n_steps_in - n_steps_out + 1):\n",
    "        # Define the end index for the input and output sequences\n",
    "        end_ix = i + n_steps_in\n",
    "        out_end_ix = end_ix + n_steps_out\n",
    "        # Extract input and output parts of the sequence\n",
    "        seq_x, seq_y = sequence[i:end_ix], sequence[end_ix:out_end_ix]\n",
    "        X.append(seq_x)\n",
    "        y.append(seq_y)\n",
    "    return np.array(X), np.array(y)"
   ]
  },
  {
   "cell_type": "code",
   "execution_count": 6,
   "id": "1cfad0ce-31f8-4d26-b00f-096e1ef14f42",
   "metadata": {},
   "outputs": [
    {
     "name": "stdout",
     "output_type": "stream",
     "text": [
      "[10 20 30] [40 50]\n",
      "[20 30 40] [50 60]\n",
      "[30 40 50] [60 70]\n",
      "[40 50 60] [70 80]\n",
      "[50 60 70] [80 90]\n"
     ]
    }
   ],
   "source": [
    "# define input sequence\n",
    "raw_seq = [10, 20, 30, 40, 50, 60, 70, 80, 90]\n",
    "# choose a number of time steps\n",
    "n_steps_in, n_steps_out = 3, 2\n",
    "# split into samples\n",
    "X, y = split_sequence(raw_seq, n_steps_in, n_steps_out)\n",
    "# summarize the data\n",
    "for i in range(len(X)):\n",
    "    print(X[i], y[i])"
   ]
  },
  {
   "cell_type": "code",
   "execution_count": 8,
   "id": "5a530016-a1ed-4144-9ae1-3a21460a45d0",
   "metadata": {},
   "outputs": [],
   "source": [
    "# reshape from [samples, timesteps] into [samples, timesteps, features]\n",
    "n_features = 1\n",
    "X = X.reshape((X.shape[0], X.shape[1], n_features))"
   ]
  },
  {
   "cell_type": "code",
   "execution_count": 9,
   "id": "029db936-2b50-41c3-9951-291d1669035b",
   "metadata": {},
   "outputs": [
    {
     "data": {
      "text/plain": [
       "array([[[10],\n",
       "        [20],\n",
       "        [30]],\n",
       "\n",
       "       [[20],\n",
       "        [30],\n",
       "        [40]],\n",
       "\n",
       "       [[30],\n",
       "        [40],\n",
       "        [50]],\n",
       "\n",
       "       [[40],\n",
       "        [50],\n",
       "        [60]],\n",
       "\n",
       "       [[50],\n",
       "        [60],\n",
       "        [70]]])"
      ]
     },
     "execution_count": 9,
     "metadata": {},
     "output_type": "execute_result"
    }
   ],
   "source": [
    "X"
   ]
  },
  {
   "cell_type": "code",
   "execution_count": 10,
   "id": "e2c924fc-a36a-4ebb-a9a6-8a10983970bf",
   "metadata": {},
   "outputs": [
    {
     "data": {
      "text/plain": [
       "(5, 3, 1)"
      ]
     },
     "execution_count": 10,
     "metadata": {},
     "output_type": "execute_result"
    }
   ],
   "source": [
    "X.shape"
   ]
  },
  {
   "cell_type": "code",
   "execution_count": 14,
   "id": "c48f481a-99d6-4909-9e02-f90195d0a359",
   "metadata": {},
   "outputs": [
    {
     "name": "stdout",
     "output_type": "stream",
     "text": [
      "[[104.475426 118.95106 ]]\n"
     ]
    }
   ],
   "source": [
    "# Any of the presented LSTM model types could be used, such as Vanilla, Stacked, Bidirectional, CNN-LSTM, or ConvLSTM.\n",
    "# Here we are going to use a Stacked LSTM for multi-step forecasting.\n",
    "\n",
    "# Define and compile the Stacked LSTM model\n",
    "model = Sequential()\n",
    "\n",
    "# Add the first LSTM layer\n",
    "# 100 units, ReLU activation, returning sequences for the next LSTM layer\n",
    "# Input shape defined by number of time steps and features\n",
    "model.add(LSTM(100, activation='relu', return_sequences=True, input_shape=(n_steps_in, n_features)))\n",
    "\n",
    "# Add the second LSTM layer\n",
    "# 100 units, ReLU activation, does not return sequences\n",
    "model.add(LSTM(100, activation='relu'))\n",
    "\n",
    "# Add Dense layer to produce the output\n",
    "# The number of units is equal to the number of steps we want to predict\n",
    "model.add(Dense(n_steps_out))\n",
    "\n",
    "# Compile the model\n",
    "# Adam optimizer and mean squared error loss function are used\n",
    "model.compile(optimizer='adam', loss='mse')\n",
    "\n",
    "# Fit the model on the dataset\n",
    "# Train for 200 epochs, without verbose output\n",
    "model.fit(X, y, epochs=200, verbose=0)\n",
    "\n",
    "# Demonstrate prediction with new input data\n",
    "# New input data, shaped to fit the model's expected input shape\n",
    "x_input = np.array([70, 80, 90])\n",
    "x_input = x_input.reshape((1, n_steps_in, n_features))\n",
    "\n",
    "# Make a prediction using the trained model\n",
    "# The prediction will be for the number of output steps defined in n_steps_out\n",
    "yhat = model.predict(x_input, verbose=0)\n",
    "print(yhat)"
   ]
  },
  {
   "cell_type": "markdown",
   "id": "37db433a-0692-4e7f-9e50-7b53a1e81e30",
   "metadata": {},
   "source": [
    "### 3.2. Encoder-Decoder Model"
   ]
  },
  {
   "cell_type": "markdown",
   "id": "aed72aa2-8545-4cb1-901d-a9b6aa86a846",
   "metadata": {},
   "source": [
    "It is designed for tasks where you need __to predict variable-length output sequences based on variable-length input sequences__. This is commonly used in sequence-to-sequence (seq2seq) problems, such as language translation or multi-step time series forecasting.\n",
    "\n",
    "- Key Concepts:\n",
    "     - Sequence-to-Sequence (seq2seq): Problems where both the input and output are sequences. For example, translating a sentence from English to French or predicting future weather data based on past data.\n",
    "\n",
    "- Components of the Model:\n",
    "     - Encoder: Reads and interprets the input sequence.\n",
    "     - Decoder: Generates the output sequence based on the encoded input.\n",
    "       \n",
    "__How It Works:__\n",
    "\n",
    "- Encoder:\n",
    "     - The encoder processes the input sequence and transforms it into a fixed-length vector.\n",
    "     - This vector is a summary of the input sequence, capturing its essential information.\n",
    "     - Typically, the encoder is a Vanilla LSTM, but it can also be more complex, such as Stacked LSTM, Bidirectional LSTM, or CNN.\n",
    "<br>\n",
    "- Decoder:\n",
    "     - The decoder takes the fixed-length vector from the encoder and uses it to generate the output sequence.\n",
    "     - The fixed-length vector is repeated for each time step in the output sequence.\n",
    "     - The decoder is usually an LSTM that produces one output at each time step.\n",
    "       \n",
    "- Steps in the Process:\n",
    "     - Input Sequence: The encoder takes the input sequence (e.g., a series of numbers or words) and processes it through an LSTM layer.\n",
    "     - Fixed-Length Vector: The output of the encoder is a single vector that summarizes the entire input sequence.\n",
    "     - Repeat Vector: This fixed-length vector is repeated to match the length of the required output sequence.\n",
    "     - Output Sequence: The decoder takes this repeated vector as input and generates the output sequence through another LSTM layer.\n",
    "\n",
    "\n",
    "__Example 1:__\n",
    "Imagine you want to translate a sentence from English to French or predict the next few days' temperatures based on past data. The Encoder-Decoder model can help with these tasks.\n",
    "\n",
    "- Encoder:\n",
    "     - Think of the encoder as someone who reads and understands the English sentence (input sequence).\n",
    "     - After reading, they create a summary (fixed-length vector) that captures the meaning of the entire sentence.\n",
    "- Decoder:\n",
    "     - The decoder takes this summary and generates the French sentence (output sequence).\n",
    "     - It repeats the summary for each word it needs to predict in French.\n",
    "     - The decoder then predicts one word at a time until the entire sentence is translated.\n",
    "       \n",
    "__Example 2:__\n",
    "Similarly, imagine you have a series of past weather data and you want to predict the weather for the next 7 days.\n",
    "\n",
    "- Input Sequence: Past weather data for the last 30 days.\n",
    "- Encoder: Processes this data and outputs a fixed-length vector summarizing the past 30 days.\n",
    "- Decoder: Takes this vector and predicts the weather for each of the next 7 days.\n",
    "  \n",
    "__Summary:__\n",
    "The Encoder-Decoder LSTM model is a powerful tool for tasks where you need to predict sequences from other sequences. It reads and summarizes the input with the encoder and then generates the output sequence with the decoder, making it suitable for applications like language translation and time series forecasting."
   ]
  },
  {
   "cell_type": "code",
   "execution_count": 18,
   "id": "30061b55-71f7-406e-b2a2-6e5c7ad3801f",
   "metadata": {},
   "outputs": [
    {
     "name": "stdout",
     "output_type": "stream",
     "text": [
      "Input (X):\n",
      "[[[10]\n",
      "  [20]\n",
      "  [30]]\n",
      "\n",
      " [[20]\n",
      "  [30]\n",
      "  [40]]\n",
      "\n",
      " [[30]\n",
      "  [40]\n",
      "  [50]]\n",
      "\n",
      " [[40]\n",
      "  [50]\n",
      "  [60]]\n",
      "\n",
      " [[50]\n",
      "  [60]\n",
      "  [70]]]\n",
      "\n",
      "Output (y):\n",
      "[[[40]\n",
      "  [50]]\n",
      "\n",
      " [[50]\n",
      "  [60]]\n",
      "\n",
      " [[60]\n",
      "  [70]]\n",
      "\n",
      " [[70]\n",
      "  [80]]\n",
      "\n",
      " [[80]\n",
      "  [90]]]\n"
     ]
    }
   ],
   "source": [
    "# Define a univariate sequence\n",
    "raw_seq = [10, 20, 30, 40, 50, 60, 70, 80, 90]\n",
    "\n",
    "# Choose the number of time steps for the input and output sequences\n",
    "n_steps_in, n_steps_out = 3, 2\n",
    "\n",
    "# Split the raw sequence into input (X) and output (y) samples\n",
    "X, y = split_sequence(raw_seq, n_steps_in, n_steps_out)\n",
    "\n",
    "# Define the number of features\n",
    "n_features = 1  # Univariate data has one feature\n",
    "\n",
    "# Reshape input data to fit the LSTM model requirements\n",
    "# from [samples, timesteps] into [samples, timesteps, features]\n",
    "X = X.reshape((X.shape[0], X.shape[1], n_features))\n",
    "\n",
    "# Reshape output data to fit the LSTM model requirements\n",
    "# from [samples, timesteps] into [samples, timesteps, features]\n",
    "y = y.reshape((y.shape[0], y.shape[1], n_features))\n",
    "\n",
    "# Print the reshaped input and output data for verification\n",
    "print(\"Input (X):\")\n",
    "print(X)\n",
    "print(\"\\nOutput (y):\")\n",
    "print(y)"
   ]
  },
  {
   "cell_type": "code",
   "execution_count": 26,
   "id": "253de707-84dc-435f-a381-25d17996ce7c",
   "metadata": {},
   "outputs": [
    {
     "name": "stdout",
     "output_type": "stream",
     "text": [
      "tf.Tensor(\n",
      "[[[100.16728]\n",
      "  [114.30792]]], shape=(1, 2, 1), dtype=float32)\n"
     ]
    }
   ],
   "source": [
    "# Define the encoder part of the model\n",
    "# Input layer for the encoder with shape (n_steps_in, n_features)\n",
    "encoder_inputs = Input(shape=(n_steps_in, n_features))\n",
    "\n",
    "# LSTM layer with 100 units and ReLU activation for the encoder\n",
    "encoder = LSTM(100, activation='relu')(encoder_inputs)\n",
    "\n",
    "# Repeat the encoded vector to match the number of steps in the output sequence\n",
    "encoder_outputs = RepeatVector(n_steps_out)(encoder)\n",
    "\n",
    "# Define the decoder part of the model\n",
    "# LSTM layer with 100 units and ReLU activation for the decoder\n",
    "# return_sequences=True ensures that the decoder returns the full sequence\n",
    "decoder = LSTM(100, activation='relu', return_sequences=True)(encoder_outputs)\n",
    "\n",
    "# Dense layer applied to each time step in the sequence using TimeDistributed\n",
    "# This layer outputs the final predictions for each time step\n",
    "decoder_outputs = TimeDistributed(Dense(n_features))(decoder)\n",
    "\n",
    "# Define the complete encoder-decoder model\n",
    "# Model takes encoder_inputs and produces decoder_outputs\n",
    "model = Model(inputs=encoder_inputs, outputs=decoder_outputs)\n",
    "\n",
    "# Compile the model using Adam optimizer and mean squared error loss function\n",
    "model.compile(optimizer='adam', loss='mse')\n",
    "\n",
    "# Fit the model on the dataset\n",
    "# Train the model with input data X and target data y for 100 epochs\n",
    "# verbose=0 means no progress bar or epoch output will be shown\n",
    "model.fit(X, y, epochs=100, verbose=0)\n",
    "\n",
    "# Demonstrate prediction with new input data\n",
    "x_input = np.array([70, 80, 90])\n",
    "x_input = x_input.reshape((1, n_steps_in, n_features))\n",
    "\n",
    "# Make a prediction using the trained model\n",
    "yhat = model(x_input)\n",
    "print(yhat)"
   ]
  },
  {
   "cell_type": "markdown",
   "id": "da6b0ecf-dc8d-4c1b-9ec3-1be3864785c4",
   "metadata": {},
   "source": [
    "### 4. Multivariate Multi-step LSTM Models\n",
    "### 4.1. Multiple Input Multi-step Outputt"
   ]
  },
  {
   "cell_type": "code",
   "execution_count": 33,
   "id": "e32946ca-f41b-482a-bbdb-ed3afbbc76ad",
   "metadata": {},
   "outputs": [],
   "source": [
    "# Function to split a multivariate sequence into samples\n",
    "def split_sequences(sequences, n_steps_in, n_steps_out):\n",
    "    X, y = [], []\n",
    "    for i in range(len(sequences) - n_steps_in - n_steps_out + 1):\n",
    "        # Define the end index for the input sequence\n",
    "        end_ix = i + n_steps_in\n",
    "        # Define the end index for the output sequence\n",
    "        out_end_ix = end_ix + n_steps_out\n",
    "        # Extract input and output parts of the sequence\n",
    "        seq_x, seq_y = sequences[i:end_ix, :-1], sequences[end_ix:out_end_ix, -1]\n",
    "        X.append(seq_x)\n",
    "        y.append(seq_y)\n",
    "    return np.array(X), np.array(y)"
   ]
  },
  {
   "cell_type": "code",
   "execution_count": 34,
   "id": "45650e5b-e97b-4699-9920-6f33ec3bbb81",
   "metadata": {},
   "outputs": [
    {
     "name": "stdout",
     "output_type": "stream",
     "text": [
      "[[ 10  15  25]\n",
      " [ 20  25  45]\n",
      " [ 30  35  65]\n",
      " [ 40  45  85]\n",
      " [ 50  55 105]\n",
      " [ 60  65 125]\n",
      " [ 70  75 145]\n",
      " [ 80  85 165]\n",
      " [ 90  95 185]]\n"
     ]
    }
   ],
   "source": [
    "# Define input sequences\n",
    "# Define input sequences and output sequence\n",
    "in_seq1 = np.array([10, 20, 30, 40, 50, 60, 70, 80, 90]).reshape(-1, 1)\n",
    "in_seq2 = np.array([15, 25, 35, 45, 55, 65, 75, 85, 95]).reshape(-1, 1)\n",
    "out_seq = (in_seq1 + in_seq2).reshape(-1, 1)\n",
    "\n",
    "# Horizontally stack columns to create the dataset\n",
    "dataset = np.hstack((in_seq1, in_seq2, out_seq))\n",
    "\n",
    "print(dataset)"
   ]
  },
  {
   "cell_type": "code",
   "execution_count": 37,
   "id": "cc8a1f67-a5b8-4f5d-8847-55802f160bec",
   "metadata": {},
   "outputs": [
    {
     "name": "stdout",
     "output_type": "stream",
     "text": [
      "[[10 15]\n",
      " [20 25]\n",
      " [30 35]] [ 85 105]\n",
      "====================\n",
      "[[20 25]\n",
      " [30 35]\n",
      " [40 45]] [105 125]\n",
      "====================\n",
      "[[30 35]\n",
      " [40 45]\n",
      " [50 55]] [125 145]\n",
      "====================\n",
      "[[40 45]\n",
      " [50 55]\n",
      " [60 65]] [145 165]\n",
      "====================\n",
      "[[50 55]\n",
      " [60 65]\n",
      " [70 75]] [165 185]\n",
      "====================\n"
     ]
    }
   ],
   "source": [
    "# Define the number of time steps for input and output\n",
    "n_steps_in, n_steps_out = 3, 2\n",
    "\n",
    "# Convert the dataset into input/output samples\n",
    "X, y = split_sequences(dataset, n_steps_in, n_steps_out)\n",
    "\n",
    "# Print the reshaped input and output data for verification\n",
    "for i in range(len(X)):\n",
    "    print(X[i], y[i])\n",
    "    print('=' * 20)"
   ]
  },
  {
   "cell_type": "code",
   "execution_count": 44,
   "id": "86e8f254-84e1-4c05-a121-b2565b3f663c",
   "metadata": {},
   "outputs": [
    {
     "name": "stdout",
     "output_type": "stream",
     "text": [
      "tf.Tensor([[210.83107 233.83116]], shape=(1, 2), dtype=float32)\n"
     ]
    }
   ],
   "source": [
    "# Define the number of features\n",
    "# n_features is the number of columns in the input data (excluding the output column)\n",
    "n_features = X.shape[2]\n",
    "\n",
    "# Define and compile the LSTM model\n",
    "model = Sequential()\n",
    "\n",
    "# Add the first LSTM layer with 100 units and ReLU activation\n",
    "# return_sequences=True ensures that the output is a sequence that can be used as input for the next LSTM layer\n",
    "model.add(LSTM(100, activation='relu', return_sequences=True, input_shape=(n_steps_in, n_features)))\n",
    "\n",
    "# Add the second LSTM layer with 100 units and ReLU activation\n",
    "# return_sequences is False by default, so this layer will only output the last state\n",
    "model.add(LSTM(100, activation='relu'))\n",
    "\n",
    "# Add a Dense layer with n_steps_out units to output the final predictions\n",
    "model.add(Dense(n_steps_out))\n",
    "\n",
    "# Compile the model using the Adam optimizer and mean squared error loss function\n",
    "model.compile(optimizer='adam', loss='mse')\n",
    "\n",
    "# Fit the model on the dataset\n",
    "# Train the model with input data X and target data y for 200 epochs\n",
    "# verbose=0 means no progress bar or epoch output will be shown\n",
    "model.fit(X, y, epochs=200, verbose=0)\n",
    "\n",
    "# Demonstrate prediction with new input data\n",
    "# Define new input data for prediction\n",
    "x_input = np.array([[70, 75], [80, 85], [90, 95]])\n",
    "\n",
    "# Reshape the input data to fit the model's expected input shape (1, n_steps_in, n_features)\n",
    "x_input = x_input.reshape((1, n_steps_in, n_features))\n",
    "\n",
    "# Make a prediction using the trained model\n",
    "# The prediction will be for the number of output steps defined in n_steps_out\n",
    "yhat = model(x_input)\n",
    "print(yhat)   # we woud expect the next two steps to be: [205, 225]"
   ]
  },
  {
   "cell_type": "markdown",
   "id": "64ff4353-3a0d-424c-897a-02f390821f4c",
   "metadata": {},
   "source": [
    "### 4.2. Multiple Parallel Input and Multi-step Output"
   ]
  },
  {
   "cell_type": "code",
   "execution_count": 2,
   "id": "a56459be-d1ad-412c-a659-d24cc3eca632",
   "metadata": {},
   "outputs": [],
   "source": [
    "# Function to split a multivariate sequence into samples\n",
    "def split_sequences(sequences, n_steps_in, n_steps_out):\n",
    "    X, y = [], []\n",
    "    for i in range(len(sequences) - n_steps_in - n_steps_out + 1):\n",
    "        # Define the end index for the input and output sequences\n",
    "        end_ix = i + n_steps_in\n",
    "        out_end_ix = end_ix + n_steps_out\n",
    "        # Extract input and output parts of the sequence\n",
    "        seq_x, seq_y = sequences[i:end_ix, :], sequences[end_ix:out_end_ix, :]\n",
    "        X.append(seq_x)\n",
    "        y.append(seq_y)\n",
    "    return np.array(X), np.array(y)"
   ]
  },
  {
   "cell_type": "code",
   "execution_count": 5,
   "id": "cd7ac5ad-e896-450f-a6e7-a4c868efcec9",
   "metadata": {},
   "outputs": [
    {
     "name": "stdout",
     "output_type": "stream",
     "text": [
      "[[ 10  15  25]\n",
      " [ 20  25  45]\n",
      " [ 30  35  65]\n",
      " [ 40  45  85]\n",
      " [ 50  55 105]\n",
      " [ 60  65 125]\n",
      " [ 70  75 145]\n",
      " [ 80  85 165]\n",
      " [ 90  95 185]]\n"
     ]
    }
   ],
   "source": [
    "# Define input sequences\n",
    "# Define input sequences and output sequence\n",
    "in_seq1 = np.array([10, 20, 30, 40, 50, 60, 70, 80, 90]).reshape(-1, 1)\n",
    "in_seq2 = np.array([15, 25, 35, 45, 55, 65, 75, 85, 95]).reshape(-1, 1)\n",
    "out_seq = (in_seq1 + in_seq2).reshape(-1, 1)\n",
    "\n",
    "# Horizontally stack columns to create the dataset\n",
    "dataset = np.hstack((in_seq1, in_seq2, out_seq))\n",
    "\n",
    "print(dataset)"
   ]
  },
  {
   "cell_type": "code",
   "execution_count": 6,
   "id": "7baf5b36-f866-4e8c-aee3-e813904cd47c",
   "metadata": {},
   "outputs": [
    {
     "name": "stdout",
     "output_type": "stream",
     "text": [
      "(5, 3, 3) (5, 2, 3)\n",
      "X[0]:\n",
      "[[10 15 25]\n",
      " [20 25 45]\n",
      " [30 35 65]]\n",
      "y[0]:\n",
      "[[ 40  45  85]\n",
      " [ 50  55 105]]\n",
      "X[1]:\n",
      "[[20 25 45]\n",
      " [30 35 65]\n",
      " [40 45 85]]\n",
      "y[1]:\n",
      "[[ 50  55 105]\n",
      " [ 60  65 125]]\n",
      "X[2]:\n",
      "[[ 30  35  65]\n",
      " [ 40  45  85]\n",
      " [ 50  55 105]]\n",
      "y[2]:\n",
      "[[ 60  65 125]\n",
      " [ 70  75 145]]\n",
      "X[3]:\n",
      "[[ 40  45  85]\n",
      " [ 50  55 105]\n",
      " [ 60  65 125]]\n",
      "y[3]:\n",
      "[[ 70  75 145]\n",
      " [ 80  85 165]]\n",
      "X[4]:\n",
      "[[ 50  55 105]\n",
      " [ 60  65 125]\n",
      " [ 70  75 145]]\n",
      "y[4]:\n",
      "[[ 80  85 165]\n",
      " [ 90  95 185]]\n"
     ]
    }
   ],
   "source": [
    "# Define the number of time steps for input and output\n",
    "n_steps_in, n_steps_out = 3, 2\n",
    "\n",
    "# Convert the dataset into input/output samples\n",
    "X, y = split_sequences(dataset, n_steps_in, n_steps_out)\n",
    "\n",
    "# Print the shape of input and output samples\n",
    "print(X.shape, y.shape)\n",
    "\n",
    "# Summarize the data\n",
    "for i in range(len(X)):\n",
    "    print(f\"X[{i}]:\\n{X[i]}\")\n",
    "    print(f\"y[{i}]:\\n{y[i]}\")"
   ]
  },
  {
   "cell_type": "markdown",
   "id": "58a554a2-15fd-4e73-b34c-d94ee97245d5",
   "metadata": {},
   "source": [
    "We can use either the Vector Output or Encoder-Decoder LSTM to model this problem. In \n",
    "this case, we will use the Encoder-Decoder model."
   ]
  },
  {
   "cell_type": "code",
   "execution_count": 8,
   "id": "b21ab5cd-f0f7-49d2-8278-d579d0089d56",
   "metadata": {},
   "outputs": [
    {
     "data": {
      "text/plain": [
       "<tensorflow.python.keras.callbacks.History at 0x1b1d5660640>"
      ]
     },
     "execution_count": 8,
     "metadata": {},
     "output_type": "execute_result"
    }
   ],
   "source": [
    "# the dataset knows the number of features, e.g. 2\n",
    "n_features = X.shape[2]\n",
    "\n",
    "# Define and compile the LSTM model\n",
    "model = Sequential()\n",
    "\n",
    "# Add the first LSTM layer with 200 units and ReLU activation\n",
    "# This layer processes the input sequence\n",
    "model.add(LSTM(200, activation='relu', input_shape=(n_steps_in, n_features)))\n",
    "\n",
    "# Add a RepeatVector layer to repeat the encoded vector\n",
    "# This allows the decoder to receive a fixed-length input for each time step\n",
    "model.add(RepeatVector(n_steps_out))\n",
    "\n",
    "# Add the second LSTM layer with 200 units and ReLU activation\n",
    "# return_sequences=True ensures that the decoder returns the full sequence\n",
    "model.add(LSTM(200, activation='relu', return_sequences=True))\n",
    "\n",
    "# Add a TimeDistributed Dense layer to produce the final output\n",
    "# This layer applies a Dense layer to each time step individually\n",
    "model.add(TimeDistributed(Dense(n_features)))\n",
    "\n",
    "# Compile the model using Adam optimizer and mean squared error loss function\n",
    "model.compile(optimizer='adam', loss='mse')\n",
    "\n",
    "# Fit the model on the dataset\n",
    "# Train the model with input data X and target data y for 300 epochs\n",
    "# verbose=0 means no progress bar or epoch output will be shown\n",
    "model.fit(X, y, epochs=300, verbose=0)"
   ]
  },
  {
   "cell_type": "code",
   "execution_count": 9,
   "id": "0ff55e0e-a871-45f8-9583-4cffe1c09a2a",
   "metadata": {},
   "outputs": [
    {
     "name": "stdout",
     "output_type": "stream",
     "text": [
      "tf.Tensor(\n",
      "[[[ 90.68342   95.850395 186.6504  ]\n",
      "  [101.382996 106.759254 207.07912 ]]], shape=(1, 2, 3), dtype=float32)\n"
     ]
    }
   ],
   "source": [
    "# Demonstrate prediction with new input data\n",
    "# Define new input data for prediction\n",
    "x_input = np.array([[60, 65, 125], [70, 75, 145], [80, 85, 165]])\n",
    "# Reshape the input data to fit the model's expected input shape (1, n_steps_in, n_features)\n",
    "x_input = x_input.reshape((1, n_steps_in, n_features))\n",
    "\n",
    "# Make a prediction using the trained model\n",
    "# The prediction will be for the number of output steps defined in n_steps_out\n",
    "yhat = model(x_input)\n",
    "print(yhat)"
   ]
  },
  {
   "cell_type": "markdown",
   "id": "e0e0aa05-38ed-4750-b514-f4fbd322acdf",
   "metadata": {},
   "source": [
    "## Real-world Example (Stock Price Prediction using LSTM)"
   ]
  },
  {
   "cell_type": "code",
   "execution_count": 4,
   "id": "cebb8e36-2fc3-4f73-96c4-d74934bb00b7",
   "metadata": {},
   "outputs": [
    {
     "name": "stderr",
     "output_type": "stream",
     "text": [
      "[*********************100%%**********************]  1 of 1 completed\n",
      "[*********************100%%**********************]  1 of 1 completed"
     ]
    },
    {
     "name": "stdout",
     "output_type": "stream",
     "text": [
      "Training Data:\n",
      "                 Open       High        Low      Close  Adj Close     Volume\n",
      "Date                                                                        \n",
      "2013-01-02  19.779285  19.821428  19.343929  19.608213  16.747719  560518000\n",
      "2013-01-03  19.567142  19.631071  19.321428  19.360714  16.536327  352965200\n",
      "2013-01-04  19.177500  19.236786  18.779642  18.821428  16.075710  594333600\n",
      "2013-01-07  18.642857  18.903570  18.400000  18.710714  15.981152  484156400\n",
      "2013-01-08  18.900356  18.996071  18.616072  18.761070  16.024164  458707200\n",
      "\n",
      "Testing Data:\n",
      "                 Open       High        Low      Close  Adj Close     Volume\n",
      "Date                                                                        \n",
      "2018-01-02  42.540001  43.075001  42.314999  43.064999  40.670975  102223600\n",
      "2018-01-03  43.132500  43.637501  42.990002  43.057499  40.663887  118071600\n",
      "2018-01-04  43.134998  43.367500  43.020000  43.257500  40.852779   89738400\n",
      "2018-01-05  43.360001  43.842499  43.262501  43.750000  41.317905   94640000\n",
      "2018-01-08  43.587502  43.902500  43.482498  43.587502  41.164429   82271200\n"
     ]
    },
    {
     "name": "stderr",
     "output_type": "stream",
     "text": [
      "\n"
     ]
    }
   ],
   "source": [
    "# Training Data: Use Apple stock prices from January 1, 2013, to December 31, 2017.\n",
    "# Prediction Data: Predict using Apple stock prices for January 2018.\n",
    "\n",
    "# Define the ticker symbol and the date range for training and testing data\n",
    "ticker_symbol = 'AAPL'\n",
    "training_start_date = '2013-01-01'\n",
    "training_end_date = '2017-12-31'\n",
    "testing_start_date = '2018-01-01'\n",
    "testing_end_date = '2018-01-31'\n",
    "\n",
    "# Download the training stock data\n",
    "apple_training_data = yf.download(ticker_symbol, start=training_start_date, end=training_end_date)\n",
    "\n",
    "# Download the testing stock data\n",
    "apple_testing_data = yf.download(ticker_symbol, start=testing_start_date, end=testing_end_date)\n",
    "\n",
    "# Display the first few rows of the training data\n",
    "print(\"Training Data:\")\n",
    "print(apple_training_data.head())\n",
    "\n",
    "# Display the first few rows of the testing data\n",
    "print(\"\\nTesting Data:\")\n",
    "print(apple_testing_data.head())\n",
    "\n",
    "# Save the training data to a CSV file\n",
    "apple_training_data.to_csv('apple_training_data_2013_2017.csv')\n",
    "\n",
    "# Save the testing data to a CSV file\n",
    "apple_testing_data.to_csv('apple_testing_data_january_2018.csv')"
   ]
  },
  {
   "cell_type": "code",
   "execution_count": 5,
   "id": "d5bf1de1-bdfc-4772-9ba3-67cc9d9fbf52",
   "metadata": {},
   "outputs": [
    {
     "data": {
      "image/png": "[encoded data removed]",
      "text/plain": [
       "<Figure size 1800x800 with 1 Axes>"
      ]
     },
     "metadata": {},
     "output_type": "display_data"
    }
   ],
   "source": [
    "apple_training_data.Open.plot(figsize=(18, 8));"
   ]
  },
  {
   "cell_type": "code",
   "execution_count": 6,
   "id": "cf96c699-7cb3-4412-a0c4-7d946aa8da00",
   "metadata": {},
   "outputs": [
    {
     "data": {
      "image/png": "[encoded data removed]",
      "text/plain": [
       "<Figure size 1800x800 with 1 Axes>"
      ]
     },
     "metadata": {},
     "output_type": "display_data"
    }
   ],
   "source": [
    "apple_testing_data.Open.plot(figsize=(18, 8));"
   ]
  },
  {
   "cell_type": "code",
   "execution_count": 7,
   "id": "68e64573-df53-4edd-9b27-209beabbbf2e",
   "metadata": {},
   "outputs": [],
   "source": [
    "train_set = apple_training_data.Open.values.reshape(-1, 1)\n",
    "test_set = apple_testing_data.Open.values.reshape(-1, 1)"
   ]
  },
  {
   "cell_type": "code",
   "execution_count": 8,
   "id": "88795200-48aa-4e89-ab1f-e36b000638bb",
   "metadata": {},
   "outputs": [
    {
     "data": {
      "text/plain": [
       "array([[19.77928543],\n",
       "       [19.56714249],\n",
       "       [19.17749977],\n",
       "       ...,\n",
       "       [42.52500153],\n",
       "       [42.75      ],\n",
       "       [42.63000107]])"
      ]
     },
     "execution_count": 8,
     "metadata": {},
     "output_type": "execute_result"
    }
   ],
   "source": [
    "train_set"
   ]
  },
  {
   "cell_type": "code",
   "execution_count": 9,
   "id": "8b0c7510-b17b-4283-9ff8-32a26a4aaa38",
   "metadata": {},
   "outputs": [],
   "source": [
    "# It is always a good idea to normalize or scale data when using neural networks.\n",
    "scaler = MinMaxScaler(feature_range=(0, 1))\n",
    "train_set_scaled = scaler.fit_transform(train_set)"
   ]
  },
  {
   "cell_type": "code",
   "execution_count": 10,
   "id": "248e9db6-7266-406e-8e58-c404a74ff9e8",
   "metadata": {},
   "outputs": [
    {
     "data": {
      "text/plain": [
       "array([[0.19795893],\n",
       "       [0.19086893],\n",
       "       [0.17784673],\n",
       "       ...,\n",
       "       [0.95814041],\n",
       "       [0.96566006],\n",
       "       [0.96164959]])"
      ]
     },
     "execution_count": 10,
     "metadata": {},
     "output_type": "execute_result"
    }
   ],
   "source": [
    "train_set_scaled"
   ]
  },
  {
   "cell_type": "markdown",
   "id": "4e2704cf-37ca-4c4a-87f4-90e266a432b3",
   "metadata": {},
   "source": [
    "Convert Training Data to Correct Shape:\n",
    "- Objective: Predict stock price at time T based on data from days T-60 to T-1.\n",
    "\n",
    "Features and Labels:\n",
    "- Features (inputs): Opening stock prices for the past 60 days.\n",
    "- Labels (output): Stock price on the 61st day."
   ]
  },
  {
   "cell_type": "code",
   "execution_count": 11,
   "id": "0a364e92-f9a6-4787-9e07-ea8e335b2492",
   "metadata": {},
   "outputs": [
    {
     "data": {
      "text/plain": [
       "(1259, 1)"
      ]
     },
     "execution_count": 11,
     "metadata": {},
     "output_type": "execute_result"
    }
   ],
   "source": [
    "train_set_scaled.shape"
   ]
  },
  {
   "cell_type": "code",
   "execution_count": 12,
   "id": "4f2da845-0b45-4dc2-bd05-b581c0f0a0de",
   "metadata": {},
   "outputs": [],
   "source": [
    "# Initialize lists to store feature sets and labels\n",
    "features_set, labels = [], []\n",
    "\n",
    "# Loop over the training data to create feature sets and labels\n",
    "for i in range(60, len(train_set_scaled)):\n",
    "    # Append the past 60 days' data to the features_set\n",
    "    features_set.append(train_set_scaled[i-60:i, 0])\n",
    "    # Append the current day's data to the labels\n",
    "    labels.append(train_set_scaled[i, 0])"
   ]
  },
  {
   "cell_type": "code",
   "execution_count": 13,
   "id": "e98acc67-23b8-4fa3-ac1a-02d8ccbc93a0",
   "metadata": {},
   "outputs": [],
   "source": [
    "features_set, labels = np.array(features_set), np.array(labels)"
   ]
  },
  {
   "cell_type": "code",
   "execution_count": 14,
   "id": "07c73244-31f4-4eb0-ab8a-e7f1a2e3b1fa",
   "metadata": {},
   "outputs": [
    {
     "data": {
      "text/plain": [
       "(1199, 60)"
      ]
     },
     "execution_count": 14,
     "metadata": {},
     "output_type": "execute_result"
    }
   ],
   "source": [
    "features_set.shape"
   ]
  },
  {
   "cell_type": "code",
   "execution_count": 15,
   "id": "c7961293-04dc-4b84-b169-77003a6cbda0",
   "metadata": {},
   "outputs": [
    {
     "data": {
      "text/plain": [
       "(1199,)"
      ]
     },
     "execution_count": 15,
     "metadata": {},
     "output_type": "execute_result"
    }
   ],
   "source": [
    "labels.shape"
   ]
  },
  {
   "cell_type": "code",
   "execution_count": 16,
   "id": "e76c89e7-4303-4a08-978a-2675682a5f0e",
   "metadata": {},
   "outputs": [],
   "source": [
    "# LSTM expects three-dimensional input: (samples, time steps, features).\n",
    "features_set = np.reshape(features_set, (features_set.shape[0], features_set.shape[1], 1))"
   ]
  },
  {
   "cell_type": "code",
   "execution_count": 39,
   "id": "cdd5822e-e6df-4032-9143-68b0acbcf0da",
   "metadata": {},
   "outputs": [
    {
     "name": "stdout",
     "output_type": "stream",
     "text": [
      "Epoch 1/100\n",
      "38/38 [==============================] - 2s 59ms/step - loss: 0.0307\n",
      "Epoch 2/100\n",
      "38/38 [==============================] - 2s 56ms/step - loss: 0.0058\n",
      "Epoch 3/100\n",
      "38/38 [==============================] - 2s 56ms/step - loss: 0.0047\n",
      "Epoch 4/100\n",
      "38/38 [==============================] - 2s 56ms/step - loss: 0.0039\n",
      "Epoch 5/100\n",
      "38/38 [==============================] - 2s 55ms/step - loss: 0.0045\n",
      "Epoch 6/100\n",
      "38/38 [==============================] - 2s 56ms/step - loss: 0.0043\n",
      "Epoch 7/100\n",
      "38/38 [==============================] - 2s 54ms/step - loss: 0.0039\n",
      "Epoch 8/100\n",
      "38/38 [==============================] - 2s 54ms/step - loss: 0.0038\n",
      "Epoch 9/100\n",
      "38/38 [==============================] - 2s 54ms/step - loss: 0.0037\n",
      "Epoch 10/100\n",
      "38/38 [==============================] - 2s 54ms/step - loss: 0.0035\n",
      "Epoch 11/100\n",
      "38/38 [==============================] - 2s 55ms/step - loss: 0.0034\n",
      "Epoch 12/100\n",
      "38/38 [==============================] - 2s 56ms/step - loss: 0.0032\n",
      "Epoch 13/100\n",
      "38/38 [==============================] - 2s 60ms/step - loss: 0.0037\n",
      "Epoch 14/100\n",
      "38/38 [==============================] - 3s 77ms/step - loss: 0.0035\n",
      "Epoch 15/100\n",
      "38/38 [==============================] - 3s 83ms/step - loss: 0.0031\n",
      "Epoch 16/100\n",
      "38/38 [==============================] - 2s 62ms/step - loss: 0.0034\n",
      "Epoch 17/100\n",
      "38/38 [==============================] - 2s 54ms/step - loss: 0.0026\n",
      "Epoch 18/100\n",
      "38/38 [==============================] - 2s 53ms/step - loss: 0.0026\n",
      "Epoch 19/100\n",
      "38/38 [==============================] - 2s 54ms/step - loss: 0.0027\n",
      "Epoch 20/100\n",
      "38/38 [==============================] - 2s 55ms/step - loss: 0.0028\n",
      "Epoch 21/100\n",
      "38/38 [==============================] - 2s 53ms/step - loss: 0.0024\n",
      "Epoch 22/100\n",
      "38/38 [==============================] - 2s 52ms/step - loss: 0.0024\n",
      "Epoch 23/100\n",
      "38/38 [==============================] - 2s 53ms/step - loss: 0.0025\n",
      "Epoch 24/100\n",
      "38/38 [==============================] - 2s 54ms/step - loss: 0.0024\n",
      "Epoch 25/100\n",
      "38/38 [==============================] - 2s 53ms/step - loss: 0.0024\n",
      "Epoch 26/100\n",
      "38/38 [==============================] - 2s 52ms/step - loss: 0.0026\n",
      "Epoch 27/100\n",
      "38/38 [==============================] - 2s 53ms/step - loss: 0.0024\n",
      "Epoch 28/100\n",
      "38/38 [==============================] - 2s 52ms/step - loss: 0.0022\n",
      "Epoch 29/100\n",
      "38/38 [==============================] - 2s 54ms/step - loss: 0.0023\n",
      "Epoch 30/100\n",
      "38/38 [==============================] - 2s 55ms/step - loss: 0.0022\n",
      "Epoch 31/100\n",
      "38/38 [==============================] - 2s 53ms/step - loss: 0.0020\n",
      "Epoch 32/100\n",
      "38/38 [==============================] - 2s 52ms/step - loss: 0.0023\n",
      "Epoch 33/100\n",
      "38/38 [==============================] - 2s 58ms/step - loss: 0.0020\n",
      "Epoch 34/100\n",
      "38/38 [==============================] - 2s 54ms/step - loss: 0.0023\n",
      "Epoch 35/100\n",
      "38/38 [==============================] - 2s 53ms/step - loss: 0.0021\n",
      "Epoch 36/100\n",
      "38/38 [==============================] - 2s 54ms/step - loss: 0.0020\n",
      "Epoch 37/100\n",
      "38/38 [==============================] - 2s 54ms/step - loss: 0.0021\n",
      "Epoch 38/100\n",
      "38/38 [==============================] - 2s 53ms/step - loss: 0.0019\n",
      "Epoch 39/100\n",
      "38/38 [==============================] - 2s 53ms/step - loss: 0.0020\n",
      "Epoch 40/100\n",
      "38/38 [==============================] - 2s 52ms/step - loss: 0.0021\n",
      "Epoch 41/100\n",
      "38/38 [==============================] - 2s 53ms/step - loss: 0.0021\n",
      "Epoch 42/100\n",
      "38/38 [==============================] - 2s 56ms/step - loss: 0.0019\n",
      "Epoch 43/100\n",
      "38/38 [==============================] - 2s 53ms/step - loss: 0.0018\n",
      "Epoch 44/100\n",
      "38/38 [==============================] - 2s 52ms/step - loss: 0.0018\n",
      "Epoch 45/100\n",
      "38/38 [==============================] - 2s 52ms/step - loss: 0.0018\n",
      "Epoch 46/100\n",
      "38/38 [==============================] - 2s 52ms/step - loss: 0.0015\n",
      "Epoch 47/100\n",
      "38/38 [==============================] - 2s 52ms/step - loss: 0.0018\n",
      "Epoch 48/100\n",
      "38/38 [==============================] - 2s 51ms/step - loss: 0.0020\n",
      "Epoch 49/100\n",
      "38/38 [==============================] - 2s 51ms/step - loss: 0.0017\n",
      "Epoch 50/100\n",
      "38/38 [==============================] - 2s 52ms/step - loss: 0.0015\n",
      "Epoch 51/100\n",
      "38/38 [==============================] - 2s 51ms/step - loss: 0.0017\n",
      "Epoch 52/100\n",
      "38/38 [==============================] - 2s 53ms/step - loss: 0.0017\n",
      "Epoch 53/100\n",
      "38/38 [==============================] - 2s 51ms/step - loss: 0.0019\n",
      "Epoch 54/100\n",
      "38/38 [==============================] - 2s 52ms/step - loss: 0.0020\n",
      "Epoch 55/100\n",
      "38/38 [==============================] - 2s 51ms/step - loss: 0.0015\n",
      "Epoch 56/100\n",
      "38/38 [==============================] - 2s 51ms/step - loss: 0.0016\n",
      "Epoch 57/100\n",
      "38/38 [==============================] - 2s 53ms/step - loss: 0.0015\n",
      "Epoch 58/100\n",
      "38/38 [==============================] - 2s 51ms/step - loss: 0.0017\n",
      "Epoch 59/100\n",
      "38/38 [==============================] - 2s 51ms/step - loss: 0.0014\n",
      "Epoch 60/100\n",
      "38/38 [==============================] - 2s 52ms/step - loss: 0.0015\n",
      "Epoch 61/100\n",
      "38/38 [==============================] - 2s 50ms/step - loss: 0.0015\n",
      "Epoch 62/100\n",
      "38/38 [==============================] - 2s 52ms/step - loss: 0.0015\n",
      "Epoch 63/100\n",
      "38/38 [==============================] - 2s 54ms/step - loss: 0.0015\n",
      "Epoch 64/100\n",
      "38/38 [==============================] - 2s 52ms/step - loss: 0.0015\n",
      "Epoch 65/100\n",
      "38/38 [==============================] - 2s 53ms/step - loss: 0.0014\n",
      "Epoch 66/100\n",
      "38/38 [==============================] - 2s 51ms/step - loss: 0.0014\n",
      "Epoch 67/100\n",
      "38/38 [==============================] - 2s 52ms/step - loss: 0.0015\n",
      "Epoch 68/100\n",
      "38/38 [==============================] - 2s 51ms/step - loss: 0.0014\n",
      "Epoch 69/100\n",
      "38/38 [==============================] - 2s 51ms/step - loss: 0.0014\n",
      "Epoch 70/100\n",
      "38/38 [==============================] - 2s 51ms/step - loss: 0.0013\n",
      "Epoch 71/100\n",
      "38/38 [==============================] - 2s 51ms/step - loss: 0.0014\n",
      "Epoch 72/100\n",
      "38/38 [==============================] - 2s 53ms/step - loss: 0.0013\n",
      "Epoch 73/100\n",
      "38/38 [==============================] - 2s 52ms/step - loss: 0.0016\n",
      "Epoch 74/100\n",
      "38/38 [==============================] - 2s 57ms/step - loss: 0.0014\n",
      "Epoch 75/100\n",
      "38/38 [==============================] - 2s 57ms/step - loss: 0.0013\n",
      "Epoch 76/100\n",
      "38/38 [==============================] - 2s 53ms/step - loss: 0.0014\n",
      "Epoch 77/100\n",
      "38/38 [==============================] - 2s 55ms/step - loss: 0.0015\n",
      "Epoch 78/100\n",
      "38/38 [==============================] - 2s 53ms/step - loss: 0.0013\n",
      "Epoch 79/100\n",
      "38/38 [==============================] - 2s 53ms/step - loss: 0.0014\n",
      "Epoch 80/100\n",
      "38/38 [==============================] - 2s 53ms/step - loss: 0.0012\n",
      "Epoch 81/100\n",
      "38/38 [==============================] - 2s 54ms/step - loss: 0.0012\n",
      "Epoch 82/100\n",
      "38/38 [==============================] - 2s 52ms/step - loss: 0.0012\n",
      "Epoch 83/100\n",
      "38/38 [==============================] - 2s 52ms/step - loss: 0.0013\n",
      "Epoch 84/100\n",
      "38/38 [==============================] - 2s 60ms/step - loss: 0.0015\n",
      "Epoch 85/100\n",
      "38/38 [==============================] - 2s 59ms/step - loss: 0.0013: 1s - \n",
      "Epoch 86/100\n",
      "38/38 [==============================] - 2s 51ms/step - loss: 0.0013\n",
      "Epoch 87/100\n",
      "38/38 [==============================] - 2s 52ms/step - loss: 0.0012\n",
      "Epoch 88/100\n",
      "38/38 [==============================] - 2s 59ms/step - loss: 0.0012\n",
      "Epoch 89/100\n",
      "38/38 [==============================] - 3s 68ms/step - loss: 0.0012\n",
      "Epoch 90/100\n",
      "38/38 [==============================] - 2s 61ms/step - loss: 0.0012\n",
      "Epoch 91/100\n",
      "38/38 [==============================] - 2s 53ms/step - loss: 0.0013\n",
      "Epoch 92/100\n",
      "38/38 [==============================] - 2s 52ms/step - loss: 0.0013\n",
      "Epoch 93/100\n",
      "38/38 [==============================] - 2s 53ms/step - loss: 0.0011\n",
      "Epoch 94/100\n",
      "38/38 [==============================] - 2s 53ms/step - loss: 0.0010\n",
      "Epoch 95/100\n",
      "38/38 [==============================] - 2s 54ms/step - loss: 0.0011\n",
      "Epoch 96/100\n",
      "38/38 [==============================] - 2s 52ms/step - loss: 0.0012\n",
      "Epoch 97/100\n",
      "38/38 [==============================] - 2s 52ms/step - loss: 0.0011\n",
      "Epoch 98/100\n",
      "38/38 [==============================] - 2s 53ms/step - loss: 0.0011\n",
      "Epoch 99/100\n",
      "38/38 [==============================] - 2s 52ms/step - loss: 0.0011\n",
      "Epoch 100/100\n",
      "38/38 [==============================] - 2s 52ms/step - loss: 0.0011\n"
     ]
    }
   ],
   "source": [
    "# Fix seed for reproducibility\n",
    "np.random.seed(100)\n",
    "tf.random.set_seed(100)\n",
    "\n",
    "# Initialize the model\n",
    "model = Sequential()\n",
    "\n",
    "# Add the first LSTM layer with Dropout regularization\n",
    "model.add(LSTM(units=50, return_sequences=True, input_shape=(features_set.shape[1], 1)))\n",
    "model.add(Dropout(0.2))\n",
    "\n",
    "# Add the second LSTM layer with Dropout regularization\n",
    "model.add(LSTM(units=50, return_sequences=True))\n",
    "model.add(Dropout(0.2))\n",
    "\n",
    "# Add the third LSTM layer with Dropout regularization\n",
    "model.add(LSTM(units=50, return_sequences=True))\n",
    "model.add(Dropout(0.2))\n",
    "\n",
    "# Add the fourth LSTM layer without return sequences\n",
    "model.add(LSTM(units=50))\n",
    "model.add(Dropout(0.2))\n",
    "\n",
    "# Add the output layer\n",
    "model.add(Dense(units=1))\n",
    "\n",
    "# Compile the model\n",
    "model.compile(optimizer='adam', loss='mean_squared_error')\n",
    "\n",
    "# Fit the model and store the history for plotting\n",
    "history = model.fit(features_set, labels, epochs=100, batch_size=32, verbose=1)\n",
    "\n",
    "# If you get the following error: NotImplementedError: Cannot convert a symbolic Tensor \n",
    "# Run the following code in anaconda prompt: conda install numpy=1.19"
   ]
  },
  {
   "cell_type": "code",
   "execution_count": 40,
   "id": "da1f07e0-a7e5-407c-b706-a91d0a4e7d70",
   "metadata": {},
   "outputs": [
    {
     "data": {
      "image/png": "[encoded data removed]",
      "text/plain": [
       "<Figure size 640x480 with 1 Axes>"
      ]
     },
     "metadata": {},
     "output_type": "display_data"
    }
   ],
   "source": [
    "# Plot the loss over epochs\n",
    "plt.plot(history.history['loss'])\n",
    "plt.title('Model Loss')\n",
    "plt.xlabel('Epochs')\n",
    "plt.ylabel('Loss')\n",
    "plt.show()"
   ]
  },
  {
   "cell_type": "code",
   "execution_count": 41,
   "id": "7addbb15-a4ae-45b8-a585-dc1bf221b687",
   "metadata": {},
   "outputs": [
    {
     "data": {
      "text/plain": [
       "array([[0.19795893],\n",
       "       [0.19086893],\n",
       "       [0.17784673],\n",
       "       ...,\n",
       "       [0.95814041],\n",
       "       [0.96566006],\n",
       "       [0.96164959]])"
      ]
     },
     "execution_count": 41,
     "metadata": {},
     "output_type": "execute_result"
    }
   ],
   "source": [
    "train_set_scaled"
   ]
  },
  {
   "cell_type": "code",
   "execution_count": 68,
   "id": "f36376b7-aaee-4dba-bb8e-37cdcd538f1b",
   "metadata": {},
   "outputs": [],
   "source": [
    "# Fetch the last 60 days of training data\n",
    "last_60_days_train = train_set[-60:]\n",
    "\n",
    "# Concatenate the last 60 days of training data with the test data\n",
    "test_inputs = np.concatenate((last_60_days_train, test_set), axis=0)"
   ]
  },
  {
   "cell_type": "code",
   "execution_count": 69,
   "id": "80e45055-109a-4809-b964-c61f600ed2ec",
   "metadata": {},
   "outputs": [],
   "source": [
    "# Scale test inputs\n",
    "test_set_scaled = scaler.transform(test_inputs)\n",
    "\n",
    "# Prepare test features for prediction\n",
    "test_features = []\n",
    "for i in range(60, len(test_inputs)):\n",
    "    test_features.append(test_set_scaled[i-60:i, 0])\n",
    "\n",
    "# Convert test features to a numpy array and reshape for LSTM model\n",
    "test_features = np.array(test_features)\n",
    "test_features = test_features.reshape(test_features.shape[0], test_features.shape[1], 1)"
   ]
  },
  {
   "cell_type": "code",
   "execution_count": 70,
   "id": "9a953e38-b2a4-4d25-92d1-8d907635953b",
   "metadata": {},
   "outputs": [
    {
     "data": {
      "text/plain": [
       "(20, 60, 1)"
      ]
     },
     "execution_count": 70,
     "metadata": {},
     "output_type": "execute_result"
    }
   ],
   "source": [
    "test_features.shape"
   ]
  },
  {
   "cell_type": "code",
   "execution_count": 72,
   "id": "7f6515f9-19cd-4bc5-baae-85c8606a6f65",
   "metadata": {},
   "outputs": [
    {
     "data": {
      "image/png": "[encoded data removed]",
      "text/plain": [
       "<Figure size 1000x600 with 1 Axes>"
      ]
     },
     "metadata": {},
     "output_type": "display_data"
    }
   ],
   "source": [
    "# Make predictions using the trained model\n",
    "predictions = model.predict(test_features)\n",
    "predictions = scaler.inverse_transform(predictions)\n",
    "\n",
    "# Plot actual vs predicted stock prices\n",
    "plt.figure(figsize=(10, 6))\n",
    "plt.plot(test_set, color='blue', label='Actual Price')\n",
    "plt.plot(predictions, color='red', label='Predicted Price')\n",
    "plt.title('Apple Stock Open Price Prediction')\n",
    "plt.xlabel('Date')\n",
    "plt.ylabel('Apple Stock Price')\n",
    "plt.legend()\n",
    "plt.show()"
   ]
  },
  {
   "cell_type": "code",
   "execution_count": 1,
   "id": "6e0f5981-c4e4-44aa-86be-076bea45ab19",
   "metadata": {},
   "outputs": [],
   "source": [
    "# Very interesting video about RNN: https://www.youtube.com/watch?v=AsNTP8Kwu80&ab_channel=StatQuestwithJoshStarmer\n",
    "# Very interesting video about LSTM: https://www.youtube.com/watch?v=YCzL96nL7j0\n",
    "# Interesting video about LSTM: https://www.youtube.com/watch?v=LfnrRPFhkuY\n",
    "# https://towardsdatascience.com/animated-rnn-lstm-and-gru-ef124d06cf45\n",
    "# https://stackabuse.com/time-series-analysis-with-lstm-using-pythons-keras-library/"
   ]
  }
 ],
 "metadata": {
  "kernelspec": {
   "display_name": "Python 3 (ipykernel)",
   "language": "python",
   "name": "python3"
  },
  "language_info": {
   "codemirror_mode": {
    "name": "ipython",
    "version": 3
   },
   "file_extension": ".py",
   "mimetype": "text/x-python",
   "name": "python",
   "nbconvert_exporter": "python",
   "pygments_lexer": "ipython3",
   "version": "3.11.3"
  }
 },
 "nbformat": 4,
 "nbformat_minor": 5
}
