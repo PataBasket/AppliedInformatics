{
 "cells": [
  {
   "cell_type": "markdown",
   "id": "9d56394a-5d63-4f42-b28c-9badeb615977",
   "metadata": {},
   "source": [
    "### A Convolutional Neural Network (CNN) model\n",
    "\n",
    "It can be effectively used for time series forecasting by leveraging its ability to capture patterns in sequential data. Traditionally used for image processing, CNNs can be adapted for time series data by applying convolutions along the temporal dimension.\n",
    "\n",
    "__How CNN Models Work for Time Series:__\n",
    "\n",
    "__1. Convolutional Layers:__\n",
    "\n",
    "- Treat time series data as a 1D signal where each time step is a feature.\n",
    "- Filters (kernels) slide over the data to extract local patterns.\n",
    "- Convolutions capture relationships and patterns within the time series.\n",
    "\n",
    "__2. Pooling Layers:__\n",
    "\n",
    "- Downsample the feature maps from convolutional layers, reducing their size while preserving important features.\n",
    "- Common pooling methods include max pooling (selects the maximum value) and average pooling (calculates the average value) within each pooling window.\n",
    "\n",
    "__3. Flattening and Fully Connected Layers:__\n",
    "\n",
    "- Flatten the output from convolutional and pooling layers into a 1D vector.\n",
    "- Feed this vector into fully connected (dense) layers to learn high-level representations.\n",
    "- These layers perform classification or regression tasks based on the learned features.\n",
    "\n",
    "__4. Output Layer:__\n",
    "\n",
    "- For forecasting, the output layer may have a single neuron (predicting the next data point) or multiple neurons (predicting future values).\n",
    "\n",
    "__5. Training:__\n",
    "\n",
    "- Train the CNN using labeled time series data with supervised learning.\n",
    "- Minimize a loss function that measures the difference between predicted and actual values.\n",
    "- Use optimization algorithms like stochastic gradient descent (SGD) or Adam to update model parameters.\n",
    "\n",
    "__Useful links:__\n",
    "\n",
    "- https://www.youtube.com/watch?v=YRhxdVk_sIs\r",
    "- \n",
    "https://www.youtube.com/watch?v=JboZfxUjLSk"
   ]
  },
  {
   "cell_type": "markdown",
   "id": "5d5c84c4-4f5c-4041-93fa-c7c6e542aaf3",
   "metadata": {},
   "source": [
    "### 1. Univariate Convolutional Neural Network models"
   ]
  },
  {
   "cell_type": "code",
   "execution_count": 50,
   "id": "81413e2d-de67-4e28-9eba-5a95131d8c6e",
   "metadata": {},
   "outputs": [],
   "source": [
    "import numpy as np\n",
    "import pandas as pd\n",
    "import tensorflow as tf\n",
    "import matplotlib.pyplot as plt\n",
    "from tensorflow.keras.models import Model\n",
    "from tensorflow.keras.models import Sequential\n",
    "from sklearn.model_selection import train_test_split\n",
    "from tensorflow.keras.layers import Input, Conv1D, MaxPooling1D, Flatten, Dense, concatenate\n",
    "from sklearn.metrics import mean_absolute_error, mean_squared_error, mean_absolute_percentage_error"
   ]
  },
  {
   "cell_type": "markdown",
   "id": "a710b140-cccc-4657-87e3-592442175952",
   "metadata": {},
   "source": [
    "Although traditionally developed for two-dimensional image data, CNNs can be used to model\r\n",
    "univariate time series forecasting problems."
   ]
  },
  {
   "cell_type": "code",
   "execution_count": 53,
   "id": "7e6e1b42-c69e-4acd-8e23-279a2304f72a",
   "metadata": {},
   "outputs": [],
   "source": [
    "def split_sequence(sequence, n_steps):\n",
    "    X, y = [], []  # Initialize empty lists for inputs and outputs\n",
    "    \n",
    "    for i in range(len(sequence) - n_steps):\n",
    "        # Extract input sequence of length n_steps and corresponding output\n",
    "        seq_x, seq_y = sequence[i:i + n_steps], sequence[i + n_steps]\n",
    "        \n",
    "        X.append(seq_x)  # Append the input sequence to X\n",
    "        y.append(seq_y)  # Append the output value to y\n",
    "\n",
    "    return np.array(X), np.array(y)  # Convert lists to numpy arrays and return"
   ]
  },
  {
   "cell_type": "code",
   "execution_count": 55,
   "id": "2fd466f1-8a8c-4c3b-8b45-0f28e7edc855",
   "metadata": {},
   "outputs": [
    {
     "name": "stdout",
     "output_type": "stream",
     "text": [
      "[10 20 30] 40\n",
      "[20 30 40] 50\n",
      "[30 40 50] 60\n",
      "[40 50 60] 70\n",
      "[50 60 70] 80\n",
      "[60 70 80] 90\n"
     ]
    }
   ],
   "source": [
    "# define input sequence\n",
    "raw_seq = [10, 20, 30, 40, 50, 60, 70, 80, 90]\n",
    "# choose a number of time steps\n",
    "n_steps = 3\n",
    "# split into samples\n",
    "X, y = split_sequence(raw_seq, n_steps)\n",
    "# summarize the data\n",
    "for i in range(len(X)):\n",
    "    print(X[i], y[i])"
   ]
  },
  {
   "cell_type": "markdown",
   "id": "84195204-f610-4ec2-acc0-1b9ed9047fcc",
   "metadata": {},
   "source": [
    "### CNN Model"
   ]
  },
  {
   "cell_type": "markdown",
   "id": "00a9bf4c-8013-4aa0-9518-98a8b47b28f3",
   "metadata": {},
   "source": [
    "A one-dimensional CNN is a CNN model that has a convolutional hidden layer that operates over a 1D sequence.\r\n",
    "A one-dimensional Convolutional Neural Network (1D CNN) is designed to process sequential data, like time series. Here's how it works:\r\n",
    "\r\n",
    "__1. Convolutional Layer:__ The first layer applies filters to the 1D sequence to detect patterns. If the input sequence is very long, an additional convolutional layer might be used to further refine these patterns.\r\n",
    "\r\n",
    "__2. Pooling Layer:__ It condenses the output from the convolutional layer, highlighting the most important features and reducing the data's dimensionality.\r\n",
    "\r\n",
    "__3. Flatten Layer:__ After the convolutional and pooling layers, the data is flattened into a single 1D vector. This step prepares the data for the next layer.\r\n",
    "\r\n",
    "__4. Dense Fully Connected Layer:__ Finally, a dense layer interprets the features extracted by the previous layers and makes predictions.\r\n",
    "\r\n",
    "This structure allows the 1D CNN to efficiently learn and recognize patterns in sequential data, making it a powerful tool for tasks like time series forecasting. "
   ]
  },
  {
   "cell_type": "markdown",
   "id": "24384808-73db-40ca-abed-dd5a756bd504",
   "metadata": {},
   "source": [
    "The input shape for each sample is specified in the input shape argument on the definition \n",
    "of the first hidden layer. We almost always have multiple samples, therefore, the model wil \r\n",
    "expect the input component of training data to have the dimensions or shape: [sample , timesteps, features]. "
   ]
  },
  {
   "cell_type": "code",
   "execution_count": 60,
   "id": "6812f2e0-50b2-469b-9a07-03a27b9fe459",
   "metadata": {},
   "outputs": [],
   "source": [
    "# reshape from [samples, timesteps] into [samples, timesteps, features]\n",
    "n_features = 1\n",
    "X = X.reshape((X.shape[0], X.shape[1], n_features))"
   ]
  },
  {
   "cell_type": "code",
   "execution_count": 62,
   "id": "798fdcde-ce3b-41b4-a990-4e196d8fba9a",
   "metadata": {},
   "outputs": [
    {
     "name": "stderr",
     "output_type": "stream",
     "text": [
      "C:\\Users\\yuta\\anaconda3\\Lib\\site-packages\\keras\\src\\layers\\convolutional\\base_conv.py:107: UserWarning: Do not pass an `input_shape`/`input_dim` argument to a layer. When using Sequential models, prefer using an `Input(shape)` object as the first layer in the model instead.\n",
      "  super().__init__(activity_regularizer=activity_regularizer, **kwargs)\n"
     ]
    },
    {
     "data": {
      "text/plain": [
       "<keras.src.callbacks.history.History at 0x1d860f3ab10>"
      ]
     },
     "execution_count": 62,
     "metadata": {},
     "output_type": "execute_result"
    }
   ],
   "source": [
    "# Set the seed for reproducibility\n",
    "np.random.seed(100)\n",
    "tf.random.set_seed(100)\n",
    "\n",
    "# Define the Sequential model\n",
    "model = Sequential()\n",
    "\n",
    "# Add a 1D convolutional layer with 64 filters, kernel size of 2, ReLU activation\n",
    "# The input shape is defined by n_steps (timesteps) and n_features\n",
    "model.add(Conv1D(filters=64, kernel_size=2, activation='relu', input_shape=(n_steps, n_features)))\n",
    "\n",
    "# Add a max pooling layer to reduce the dimensionality of the data\n",
    "# Pool size of 2 means it reduces the input size by half\n",
    "model.add(MaxPooling1D(pool_size=2))\n",
    "\n",
    "# Flatten the data to convert the 2D matrix into a 1D vector\n",
    "# This prepares the data for the fully connected layers\n",
    "model.add(Flatten())\n",
    "\n",
    "# Add a dense (fully connected) layer with 50 neurons and ReLU activation\n",
    "# This layer interprets the features extracted by the convolutional layers\n",
    "model.add(Dense(50, activation='relu'))\n",
    "\n",
    "# Add the output layer with a single neuron\n",
    "# No activation function is specified, meaning it will use a linear activation by default\n",
    "model.add(Dense(1))\n",
    "\n",
    "# Compile the model using the Adam optimizer and mean squared error (MSE) loss function\n",
    "model.compile(optimizer='adam', loss='mse')\n",
    "\n",
    "# fit model\n",
    "model.fit(X, y, epochs=2000, verbose=0)"
   ]
  },
  {
   "cell_type": "code",
   "execution_count": 72,
   "id": "2bf432bd-68bc-474f-a5f1-2de73f9a2ada",
   "metadata": {},
   "outputs": [
    {
     "data": {
      "text/plain": [
       "array([[101.4567]], dtype=float32)"
      ]
     },
     "execution_count": 72,
     "metadata": {},
     "output_type": "execute_result"
    }
   ],
   "source": [
    "# Demonstrate prediction\n",
    "x_input = np.array([70, 80, 90]).reshape((1, n_steps, n_features))\n",
    "yhat = model.predict(x_input, verbose=0)\n",
    "yhat"
   ]
  },
  {
   "cell_type": "markdown",
   "id": "bef217bc-bfbb-4d1b-880d-a1a4acc26184",
   "metadata": {},
   "source": [
    "### 2. Multivariate CNN Models"
   ]
  },
  {
   "cell_type": "markdown",
   "id": "0809ab6e-d4db-4bed-8e5c-26328b3b444c",
   "metadata": {},
   "source": [
    "### 2.1. Multiple Input Series\n",
    "In some cases, you may have multiple input time series running in parallel, along with an output time series that depends on these inputs. The input series are considered parallel because they have observations recorded at the same time steps."
   ]
  },
  {
   "cell_type": "code",
   "execution_count": 76,
   "id": "a2f95500-5c40-4e8c-ad27-db7a5754c141",
   "metadata": {},
   "outputs": [],
   "source": [
    "# Define input sequence\n",
    "in_seq1 = np.array([10, 20, 30, 40, 50, 60, 70, 80, 90])\n",
    "in_seq2 = np.array([15, 25, 35, 45, 55, 65, 75, 85, 95])\n",
    "out_seq = np.array([in_seq1[i] + in_seq2[i] for i in range(len(in_seq1))])"
   ]
  },
  {
   "cell_type": "code",
   "execution_count": 78,
   "id": "b831999d-2718-4ab8-a9b3-c662a83b3d63",
   "metadata": {},
   "outputs": [
    {
     "name": "stdout",
     "output_type": "stream",
     "text": [
      "[[ 10  15  25]\n",
      " [ 20  25  45]\n",
      " [ 30  35  65]\n",
      " [ 40  45  85]\n",
      " [ 50  55 105]\n",
      " [ 60  65 125]\n",
      " [ 70  75 145]\n",
      " [ 80  85 165]\n",
      " [ 90  95 185]]\n"
     ]
    }
   ],
   "source": [
    "# Define input sequences\n",
    "in_seq1 = np.array([10, 20, 30, 40, 50, 60, 70, 80, 90]).reshape(-1, 1)\n",
    "in_seq2 = np.array([15, 25, 35, 45, 55, 65, 75, 85, 95]).reshape(-1, 1)\n",
    "\n",
    "# Define output sequence as the sum of input sequences\n",
    "out_seq = (in_seq1 + in_seq2).reshape(-1, 1)\n",
    "\n",
    "# Horizontally stack columns to form the dataset\n",
    "dataset = np.hstack((in_seq1, in_seq2, out_seq))\n",
    "\n",
    "# prints the dataset with one row per time step and one column for each of the two input and one output parallel time series\n",
    "print(dataset)"
   ]
  },
  {
   "cell_type": "markdown",
   "id": "3d4d055c-8a33-4b87-86d4-b290813fe553",
   "metadata": {},
   "source": [
    "A 1D CNN model needs sufficient context to learn a mapping from an\r\n",
    "input sequence to an output value. CNNs can support parallel input time series as separate\r\n",
    "channels, like red, green, and blue components of an image. Therefore, we need to split the data into samples maintaining the order of observations across the two input sequences. "
   ]
  },
  {
   "cell_type": "code",
   "execution_count": 81,
   "id": "fd5572e7-b56a-4a16-b853-74b28a5d73f2",
   "metadata": {},
   "outputs": [],
   "source": [
    "def split_sequences(sequences, n_steps):\n",
    "    X, y = [], []  # Initialize empty lists for inputs and outputs\n",
    "    \n",
    "    for i in range(len(sequences) - n_steps + 1):\n",
    "        # Define the end index of the current sequence pattern\n",
    "        end_ix = i + n_steps\n",
    "        \n",
    "        # Extract input and output parts of the pattern\n",
    "        seq_x = sequences[i:end_ix, :-1]\n",
    "        seq_y = sequences[end_ix - 1, -1]\n",
    "        \n",
    "        X.append(seq_x)  # Append input sequence to X\n",
    "        y.append(seq_y)  # Append output value to y\n",
    "    \n",
    "    return np.array(X), np.array(y)  # Convert lists to numpy arrays and return"
   ]
  },
  {
   "cell_type": "code",
   "execution_count": 83,
   "id": "f7f3489b-88c6-4937-867f-d110506b388a",
   "metadata": {},
   "outputs": [
    {
     "name": "stdout",
     "output_type": "stream",
     "text": [
      "(7, 3, 2) (7,)\n",
      "[[10 15]\n",
      " [20 25]\n",
      " [30 35]] 65\n",
      "[[20 25]\n",
      " [30 35]\n",
      " [40 45]] 85\n",
      "[[30 35]\n",
      " [40 45]\n",
      " [50 55]] 105\n",
      "[[40 45]\n",
      " [50 55]\n",
      " [60 65]] 125\n",
      "[[50 55]\n",
      " [60 65]\n",
      " [70 75]] 145\n",
      "[[60 65]\n",
      " [70 75]\n",
      " [80 85]] 165\n",
      "[[70 75]\n",
      " [80 85]\n",
      " [90 95]] 185\n"
     ]
    }
   ],
   "source": [
    "# choose a number of time steps\n",
    "n_steps = 3\n",
    "# convert into input/output\n",
    "X, y = split_sequences(dataset, n_steps)\n",
    "print(X.shape, y.shape)\n",
    "# summarize the data\n",
    "for i in range(len(X)):\n",
    "    print(X[i], y[i])"
   ]
  },
  {
   "cell_type": "markdown",
   "id": "f28d8815-5d58-4404-950e-8976cce811b0",
   "metadata": {},
   "source": [
    "- The first dimension represents the __number of samples__, which is __7__ in this case.\n",
    "- The second dimension is the __number of time steps per sample__, set to __3__ as specified in the function.\n",
    "- The last dimension indicates the __number of__ parallel time series or __variables__, which is __2__ for the two parallel series."
   ]
  },
  {
   "cell_type": "code",
   "execution_count": 86,
   "id": "15ed97fb-9d9d-4b27-90ce-7a6a9a14c599",
   "metadata": {},
   "outputs": [
    {
     "name": "stdout",
     "output_type": "stream",
     "text": [
      "[[205.932]]\n"
     ]
    }
   ],
   "source": [
    "# Set the seed for reproducibility\n",
    "np.random.seed(100)\n",
    "tf.random.set_seed(100)\n",
    "\n",
    "n_features = X.shape[2]\n",
    "\n",
    "# Define the Sequential model\n",
    "model = Sequential()\n",
    "\n",
    "# Add a 1D convolutional layer with 64 filters, kernel size of 2, and ReLU activation\n",
    "# The input shape is defined by n_steps (timesteps) and n_features\n",
    "model.add(Conv1D(filters=64, kernel_size=2, activation='relu', input_shape=(n_steps, n_features)))\n",
    "\n",
    "# Add a max pooling layer to reduce the dimensionality of the data\n",
    "# Pool size of 2 means it reduces the input size by half\n",
    "model.add(MaxPooling1D(pool_size=2))\n",
    "\n",
    "# Flatten the data to convert the 2D matrix into a 1D vector\n",
    "# This prepares the data for the fully connected layers\n",
    "model.add(Flatten())\n",
    "\n",
    "# Add a dense (fully connected) layer with 50 neurons and ReLU activation\n",
    "# This layer interprets the features extracted by the convolutional layers\n",
    "model.add(Dense(50, activation='relu'))\n",
    "\n",
    "# Add the output layer with a single neuron\n",
    "# No activation function is specified, meaning it will use a linear activation by default\n",
    "model.add(Dense(1))\n",
    "\n",
    "# Compile the model using the Adam optimizer and mean squared error loss function\n",
    "model.compile(optimizer='adam', loss='mse')\n",
    "\n",
    "# Fit the model on the dataset\n",
    "model.fit(X, y, epochs=2000, verbose=0)\n",
    "\n",
    "# Demonstrate prediction\n",
    "# Define a new input sample\n",
    "x_input = np.array([[80, 85], [90, 95], [100, 105]])\n",
    "# Reshape input to match the model's expected input shape (1 sample, n_steps, n_features)\n",
    "x_input = x_input.reshape((1, n_steps, n_features))\n",
    "\n",
    "# Make a prediction using the model\n",
    "yhat = model.predict(x_input, verbose=0)\n",
    "\n",
    "# Print the predicted output\n",
    "print(yhat)"
   ]
  },
  {
   "cell_type": "markdown",
   "id": "ece5a233-fb62-40a5-9d70-d86aa4d85aa1",
   "metadata": {},
   "source": [
    "#### Multi-headed CNN Model"
   ]
  },
  {
   "cell_type": "markdown",
   "id": "3daac23e-b054-4323-8d5d-eb21237de915",
   "metadata": {},
   "source": [
    "A multi-headed CNN model offers a more sophisticated way to handle multiple input series. Each input series is processed by a separate CNN, and the outputs of these submodels are combined before making the final prediction. This approach can provide greater flexibility and potentially better performance. For instance, you can customize each submodel with different configurations, such as varying the number of filters and kernel sizes, to better suit each input series."
   ]
  },
  {
   "cell_type": "code",
   "execution_count": 89,
   "id": "73457d67-c08d-46a4-a6c3-58bcda7a080d",
   "metadata": {},
   "outputs": [
    {
     "data": {
      "text/html": [
       "<img src=\"multiheaded.png\"/>"
      ],
      "text/plain": [
       "<IPython.core.display.Image object>"
      ]
     },
     "metadata": {},
     "output_type": "display_data"
    }
   ],
   "source": [
    "from IPython.display import Image, display\n",
    "display(Image(url='multiheaded.png'))"
   ]
  },
  {
   "cell_type": "code",
   "execution_count": 90,
   "id": "a7c7c365-c991-44a4-9e99-84ccf3fc5201",
   "metadata": {},
   "outputs": [],
   "source": [
    "# Define input sequences\n",
    "in_seq1 = np.array([10, 20, 30, 40, 50, 60, 70, 80, 90]).reshape(-1, 1)\n",
    "in_seq2 = np.array([15, 25, 35, 45, 55, 65, 75, 85, 95]).reshape(-1, 1)\n",
    "out_seq = (in_seq1 + in_seq2).reshape(-1, 1)\n",
    "\n",
    "# Horizontally stack columns to form the dataset\n",
    "dataset = np.hstack((in_seq1, in_seq2, out_seq))\n",
    "\n",
    "# Choose the number of time steps\n",
    "n_steps = 3\n",
    "\n",
    "# Convert dataset into input/output\n",
    "X, y = split_sequences(dataset, n_steps)\n",
    "\n",
    "# Reshape input data for each time series (one feature per head)\n",
    "n_features = 1\n",
    "X1 = X[:, :, 0].reshape((X.shape[0], X.shape[1], n_features))\n",
    "X2 = X[:, :, 1].reshape((X.shape[0], X.shape[1], n_features))"
   ]
  },
  {
   "cell_type": "code",
   "execution_count": 91,
   "id": "2b559efd-e08b-4aaa-86ce-31f0f9ee8aea",
   "metadata": {},
   "outputs": [
    {
     "data": {
      "text/plain": [
       "array([[[10, 15],\n",
       "        [20, 25],\n",
       "        [30, 35]],\n",
       "\n",
       "       [[20, 25],\n",
       "        [30, 35],\n",
       "        [40, 45]],\n",
       "\n",
       "       [[30, 35],\n",
       "        [40, 45],\n",
       "        [50, 55]],\n",
       "\n",
       "       [[40, 45],\n",
       "        [50, 55],\n",
       "        [60, 65]],\n",
       "\n",
       "       [[50, 55],\n",
       "        [60, 65],\n",
       "        [70, 75]],\n",
       "\n",
       "       [[60, 65],\n",
       "        [70, 75],\n",
       "        [80, 85]],\n",
       "\n",
       "       [[70, 75],\n",
       "        [80, 85],\n",
       "        [90, 95]]])"
      ]
     },
     "execution_count": 91,
     "metadata": {},
     "output_type": "execute_result"
    }
   ],
   "source": [
    "X"
   ]
  },
  {
   "cell_type": "code",
   "execution_count": 92,
   "id": "6a9ac376-d6e8-4a11-8bec-4f362df68b75",
   "metadata": {},
   "outputs": [
    {
     "data": {
      "text/plain": [
       "array([[[10],\n",
       "        [20],\n",
       "        [30]],\n",
       "\n",
       "       [[20],\n",
       "        [30],\n",
       "        [40]],\n",
       "\n",
       "       [[30],\n",
       "        [40],\n",
       "        [50]],\n",
       "\n",
       "       [[40],\n",
       "        [50],\n",
       "        [60]],\n",
       "\n",
       "       [[50],\n",
       "        [60],\n",
       "        [70]],\n",
       "\n",
       "       [[60],\n",
       "        [70],\n",
       "        [80]],\n",
       "\n",
       "       [[70],\n",
       "        [80],\n",
       "        [90]]])"
      ]
     },
     "execution_count": 92,
     "metadata": {},
     "output_type": "execute_result"
    }
   ],
   "source": [
    "X1"
   ]
  },
  {
   "cell_type": "code",
   "execution_count": 93,
   "id": "e4f7a6c5-eb37-4be5-b39a-3d1115773b69",
   "metadata": {},
   "outputs": [
    {
     "data": {
      "text/plain": [
       "array([[[15],\n",
       "        [25],\n",
       "        [35]],\n",
       "\n",
       "       [[25],\n",
       "        [35],\n",
       "        [45]],\n",
       "\n",
       "       [[35],\n",
       "        [45],\n",
       "        [55]],\n",
       "\n",
       "       [[45],\n",
       "        [55],\n",
       "        [65]],\n",
       "\n",
       "       [[55],\n",
       "        [65],\n",
       "        [75]],\n",
       "\n",
       "       [[65],\n",
       "        [75],\n",
       "        [85]],\n",
       "\n",
       "       [[75],\n",
       "        [85],\n",
       "        [95]]])"
      ]
     },
     "execution_count": 93,
     "metadata": {},
     "output_type": "execute_result"
    }
   ],
   "source": [
    "X2"
   ]
  },
  {
   "cell_type": "code",
   "execution_count": 94,
   "id": "927c1838-1e06-4590-88a2-f690b5605eb6",
   "metadata": {},
   "outputs": [
    {
     "name": "stdout",
     "output_type": "stream",
     "text": [
      "[[205.28308]]\n"
     ]
    }
   ],
   "source": [
    "# Set the seed for reproducibility\n",
    "np.random.seed(100)\n",
    "tf.random.set_seed(100)\n",
    "\n",
    "# Define the first input model\n",
    "visible1 = Input(shape=(n_steps, n_features))\n",
    "cnn1 = Conv1D(filters=64, kernel_size=2, activation='relu')(visible1)\n",
    "cnn1 = MaxPooling1D(pool_size=2)(cnn1)\n",
    "cnn1 = Flatten()(cnn1)\n",
    "\n",
    "# Define the second input model\n",
    "visible2 = Input(shape=(n_steps, n_features))\n",
    "cnn2 = Conv1D(filters=64, kernel_size=2, activation='relu')(visible2)\n",
    "cnn2 = MaxPooling1D(pool_size=2)(cnn2)\n",
    "cnn2 = Flatten()(cnn2)\n",
    "\n",
    "# Merge input models\n",
    "merged = concatenate([cnn1, cnn2])\n",
    "dense = Dense(50, activation='relu')(merged)\n",
    "output = Dense(1)(dense)\n",
    "\n",
    "# Define the multi-headed model\n",
    "model = Model(inputs=[visible1, visible2], outputs=output)\n",
    "model.compile(optimizer='adam', loss='mse')\n",
    "\n",
    "# Fit the model\n",
    "model.fit([X1, X2], y, epochs=2000, verbose=0)\n",
    "\n",
    "# Demonstrate prediction\n",
    "x_input = np.array([[80, 85], [90, 95], [100, 105]])\n",
    "x1 = x_input[:, 0].reshape((1, n_steps, n_features))\n",
    "x2 = x_input[:, 1].reshape((1, n_steps, n_features))\n",
    "\n",
    "# Make prediction\n",
    "yhat = model.predict([x1, x2], verbose=0)\n",
    "print(yhat)"
   ]
  },
  {
   "cell_type": "markdown",
   "id": "a7e0516b-7bb4-4b1e-b7f4-22504cf34f2f",
   "metadata": {},
   "source": [
    "### 2.2. Multiple Parallel Series"
   ]
  },
  {
   "cell_type": "markdown",
   "id": "df63438f-899d-48ab-a0a6-fef7cb42f223",
   "metadata": {},
   "source": [
    "Another type of time series problem involves multiple parallel time series where a value must be predicted for each series at the next time step. This is known as multivariate forecasting. For example, if we have three parallel time series, we want to predict the next value for each of these three series simultaneously. This approach allows us to capture the relationships and dependencies between the different series, potentially improving the accuracy of our predictions."
   ]
  },
  {
   "cell_type": "code",
   "execution_count": 97,
   "id": "cd255d8c-4f2e-4471-81cd-18c854f2ff04",
   "metadata": {},
   "outputs": [
    {
     "name": "stdout",
     "output_type": "stream",
     "text": [
      "(6, 3, 3) (6, 3)\n",
      "[[10 15 25]\n",
      " [20 25 45]\n",
      " [30 35 65]] [40 45 85]\n",
      "[[20 25 45]\n",
      " [30 35 65]\n",
      " [40 45 85]] [ 50  55 105]\n",
      "[[ 30  35  65]\n",
      " [ 40  45  85]\n",
      " [ 50  55 105]] [ 60  65 125]\n",
      "[[ 40  45  85]\n",
      " [ 50  55 105]\n",
      " [ 60  65 125]] [ 70  75 145]\n",
      "[[ 50  55 105]\n",
      " [ 60  65 125]\n",
      " [ 70  75 145]] [ 80  85 165]\n",
      "[[ 60  65 125]\n",
      " [ 70  75 145]\n",
      " [ 80  85 165]] [ 90  95 185]\n"
     ]
    }
   ],
   "source": [
    "# Function to split a multivariate sequence into samples\n",
    "def split_sequences(sequences, n_steps):\n",
    "    X, y = [], []  # Initialize empty lists for inputs and outputs\n",
    "    for i in range(len(sequences) - n_steps):\n",
    "        # Define the end index of the current sequence pattern\n",
    "        end_ix = i + n_steps\n",
    "        # Extract input and output parts of the pattern\n",
    "        seq_x, seq_y = sequences[i:end_ix, :], sequences[end_ix, :]\n",
    "        X.append(seq_x)  # Append input sequence to X\n",
    "        y.append(seq_y)  # Append output sequence to y\n",
    "    return np.array(X), np.array(y)  # Convert lists to numpy arrays and return\n",
    "\n",
    "# Define input sequences\n",
    "in_seq1 = np.array([10, 20, 30, 40, 50, 60, 70, 80, 90]).reshape(-1, 1)\n",
    "in_seq2 = np.array([15, 25, 35, 45, 55, 65, 75, 85, 95]).reshape(-1, 1)\n",
    "\n",
    "# Define output sequence as the sum of input sequences\n",
    "out_seq = (in_seq1 + in_seq2).reshape(-1, 1)\n",
    "\n",
    "# Horizontally stack columns to form the dataset\n",
    "dataset = np.hstack((in_seq1, in_seq2, out_seq))\n",
    "\n",
    "# Choose the number of time steps\n",
    "n_steps = 3\n",
    "\n",
    "# Convert dataset into input/output pairs\n",
    "X, y = split_sequences(dataset, n_steps)\n",
    "\n",
    "# Print the shapes of the input and output arrays\n",
    "print(X.shape, y.shape)\n",
    "\n",
    "# Summarize the data\n",
    "for i in range(len(X)):\n",
    "    print(X[i], y[i])"
   ]
  },
  {
   "cell_type": "markdown",
   "id": "3a3c87aa-9a89-4e4c-a0a8-ee9b9cab6a7f",
   "metadata": {},
   "source": [
    "__The shape of X is three-dimensional__ and consists of:\n",
    "\n",
    "- Number of samples: This is the total number of samples in the dataset (6).\n",
    "- Number of time steps per sample: Each sample contains 3 time steps.\n",
    "- Number of parallel time series or features: There are 3 parallel time series in each sample.\n",
    "\n",
    "\n",
    "__The shape of y is two-dimensional__ and consists of:\n",
    "\n",
    "- Number of samples: This matches the number of samples in X (6).\n",
    "- Number of time variables per sample to be predicted: Each sample's prediction includes 3 time variables."
   ]
  },
  {
   "cell_type": "code",
   "execution_count": 99,
   "id": "e69b4a43-9874-4104-86d8-788042b56ccb",
   "metadata": {},
   "outputs": [
    {
     "data": {
      "text/plain": [
       "<keras.src.callbacks.history.History at 0x1d860f9c110>"
      ]
     },
     "execution_count": 99,
     "metadata": {},
     "output_type": "execute_result"
    }
   ],
   "source": [
    "# Set the seed for reproducibility\n",
    "np.random.seed(100)\n",
    "tf.random.set_seed(100)\n",
    "\n",
    "n_features = X.shape[2]\n",
    "\n",
    "# Define the Sequential model\n",
    "model = Sequential()\n",
    "\n",
    "# Add a 1D convolutional layer with 64 filters, kernel size of 2, and ReLU activation\n",
    "# The input shape is defined by n_steps (timesteps) and n_features (number of features)\n",
    "model.add(Conv1D(filters=64, kernel_size=2, activation='relu', input_shape=(n_steps, n_features)))\n",
    "\n",
    "# Add a max pooling layer to reduce the dimensionality of the data\n",
    "# Pool size of 2 means it reduces the input size by half\n",
    "model.add(MaxPooling1D(pool_size=2))\n",
    "\n",
    "# Flatten the data to convert the 2D matrix into a 1D vector\n",
    "# This prepares the data for the fully connected layers\n",
    "model.add(Flatten())\n",
    "\n",
    "# Add a dense (fully connected) layer with 50 neurons and ReLU activation\n",
    "# This layer interprets the features extracted by the convolutional layers\n",
    "model.add(Dense(50, activation='relu'))\n",
    "\n",
    "# Add the output layer with neurons equal to the number of features\n",
    "# This will produce an output for each feature in the time series\n",
    "model.add(Dense(n_features))\n",
    "\n",
    "# Compile the model using the Adam optimizer and mean squared error (MSE) loss function\n",
    "model.compile(optimizer='adam', loss='mse')\n",
    "\n",
    "# Fit the model on the dataset\n",
    "# Train the model for 3000 epochs\n",
    "model.fit(X, y, epochs=3000, verbose=0)"
   ]
  },
  {
   "cell_type": "code",
   "execution_count": 100,
   "id": "58435b66-080a-42c1-9447-c789385e3a29",
   "metadata": {},
   "outputs": [
    {
     "name": "stdout",
     "output_type": "stream",
     "text": [
      "tf.Tensor([[100.579475 105.819115 206.23375 ]], shape=(1, 3), dtype=float32)\n"
     ]
    }
   ],
   "source": [
    "# Demonstrate prediction\n",
    "# Define a new input sample\n",
    "x_input = np.array([[70, 75, 145], [80, 85, 165], [90, 95, 185]])\n",
    "# Reshape input to match the model's expected input shape (1 sample, n_steps, n_features)\n",
    "x_input = x_input.reshape((1, n_steps, n_features))\n",
    "\n",
    "# Make a prediction using the model\n",
    "yhat = model([x_input])\n",
    "\n",
    "# Print the predicted output\n",
    "print(yhat)"
   ]
  },
  {
   "cell_type": "markdown",
   "id": "312c4c9d-ec44-42ad-b092-b3f550e147ac",
   "metadata": {},
   "source": [
    "#### Multi-output CNN Model"
   ]
  },
  {
   "cell_type": "markdown",
   "id": "09b0c3fb-2148-45f3-9ae1-b21e83428925",
   "metadata": {},
   "source": [
    "Similar to handling multiple input series, there is a more advanced way to model the problem using multiple output series. Each output series can be managed by a separate CNN model, referred to as a multi-output CNN model. This approach may provide greater flexibility or improved performance, depending on the specifics of the problem being modeled."
   ]
  },
  {
   "cell_type": "code",
   "execution_count": 103,
   "id": "c5973917-7944-4994-bea4-4a7726cccb2f",
   "metadata": {},
   "outputs": [
    {
     "data": {
      "text/html": [
       "<img src=\"multioutput.png\"/>"
      ],
      "text/plain": [
       "<IPython.core.display.Image object>"
      ]
     },
     "metadata": {},
     "output_type": "display_data"
    }
   ],
   "source": [
    "display(Image(url='multioutput.png'))"
   ]
  },
  {
   "cell_type": "code",
   "execution_count": 104,
   "id": "496d7e4f-1a44-48c4-a9ce-ae19a8af98ca",
   "metadata": {},
   "outputs": [],
   "source": [
    "# Function to split a multivariate sequence into samples\n",
    "def split_sequences(sequences, n_steps):\n",
    "    X, y = [], []  # Initialize empty lists for inputs and outputs\n",
    "    for i in range(len(sequences) - n_steps):\n",
    "        # Define the end index of the current sequence pattern\n",
    "        end_ix = i + n_steps\n",
    "        # Extract input and output parts of the pattern\n",
    "        seq_x, seq_y = sequences[i:end_ix, :], sequences[end_ix, :]\n",
    "        X.append(seq_x)  # Append input sequence to X\n",
    "        y.append(seq_y)  # Append output sequence to y\n",
    "    return np.array(X), np.array(y)  # Convert lists to numpy arrays and return"
   ]
  },
  {
   "cell_type": "code",
   "execution_count": 105,
   "id": "4021e1f5-42e5-444e-81cd-a3eee7261d58",
   "metadata": {},
   "outputs": [],
   "source": [
    "# Define input sequences\n",
    "in_seq1 = np.array([10, 20, 30, 40, 50, 60, 70, 80, 90]).reshape(-1, 1)\n",
    "in_seq2 = np.array([15, 25, 35, 45, 55, 65, 75, 85, 95]).reshape(-1, 1)\n",
    "out_seq = (in_seq1 + in_seq2).reshape(-1, 1)\n",
    "\n",
    "# Horizontally stack columns to form the dataset\n",
    "dataset = np.hstack((in_seq1, in_seq2, out_seq))\n",
    "\n",
    "# Choose the number of time steps\n",
    "n_steps = 3\n",
    "\n",
    "# Convert dataset into input/output pairs\n",
    "X, y = split_sequences(dataset, n_steps)\n",
    "\n",
    "# The number of features\n",
    "n_features = X.shape[2]\n",
    "\n",
    "# Separate output into individual series\n",
    "y1, y2, y3 = y[:, 0], y[:, 1], y[:, 2]"
   ]
  },
  {
   "cell_type": "code",
   "execution_count": 106,
   "id": "cd0fc7dc-f026-4c24-ba6a-75bf03b487f1",
   "metadata": {},
   "outputs": [
    {
     "data": {
      "text/plain": [
       "array([[[ 10,  15,  25],\n",
       "        [ 20,  25,  45],\n",
       "        [ 30,  35,  65]],\n",
       "\n",
       "       [[ 20,  25,  45],\n",
       "        [ 30,  35,  65],\n",
       "        [ 40,  45,  85]],\n",
       "\n",
       "       [[ 30,  35,  65],\n",
       "        [ 40,  45,  85],\n",
       "        [ 50,  55, 105]],\n",
       "\n",
       "       [[ 40,  45,  85],\n",
       "        [ 50,  55, 105],\n",
       "        [ 60,  65, 125]],\n",
       "\n",
       "       [[ 50,  55, 105],\n",
       "        [ 60,  65, 125],\n",
       "        [ 70,  75, 145]],\n",
       "\n",
       "       [[ 60,  65, 125],\n",
       "        [ 70,  75, 145],\n",
       "        [ 80,  85, 165]]])"
      ]
     },
     "execution_count": 106,
     "metadata": {},
     "output_type": "execute_result"
    }
   ],
   "source": [
    "X"
   ]
  },
  {
   "cell_type": "code",
   "execution_count": 107,
   "id": "e2b94d91-95e0-4a15-bdad-38255a6104fd",
   "metadata": {},
   "outputs": [
    {
     "data": {
      "text/plain": [
       "array([[ 40,  45,  85],\n",
       "       [ 50,  55, 105],\n",
       "       [ 60,  65, 125],\n",
       "       [ 70,  75, 145],\n",
       "       [ 80,  85, 165],\n",
       "       [ 90,  95, 185]])"
      ]
     },
     "execution_count": 107,
     "metadata": {},
     "output_type": "execute_result"
    }
   ],
   "source": [
    "y"
   ]
  },
  {
   "cell_type": "code",
   "execution_count": 108,
   "id": "882ecf83-d826-4b92-94b3-3bddb73409e8",
   "metadata": {},
   "outputs": [
    {
     "data": {
      "text/plain": [
       "array([40, 50, 60, 70, 80, 90])"
      ]
     },
     "execution_count": 108,
     "metadata": {},
     "output_type": "execute_result"
    }
   ],
   "source": [
    "y1"
   ]
  },
  {
   "cell_type": "code",
   "execution_count": 109,
   "id": "31b69aab-9273-4d2b-9a21-e776a654f5d5",
   "metadata": {},
   "outputs": [
    {
     "data": {
      "text/plain": [
       "array([45, 55, 65, 75, 85, 95])"
      ]
     },
     "execution_count": 109,
     "metadata": {},
     "output_type": "execute_result"
    }
   ],
   "source": [
    "y2"
   ]
  },
  {
   "cell_type": "code",
   "execution_count": 110,
   "id": "96e046b4-52ad-41e4-87ee-0a5926565619",
   "metadata": {},
   "outputs": [
    {
     "data": {
      "text/plain": [
       "array([ 85, 105, 125, 145, 165, 185])"
      ]
     },
     "execution_count": 110,
     "metadata": {},
     "output_type": "execute_result"
    }
   ],
   "source": [
    "y3"
   ]
  },
  {
   "cell_type": "code",
   "execution_count": 111,
   "id": "b4e53abf-74f3-4268-9fd2-c41706cb2fc9",
   "metadata": {},
   "outputs": [
    {
     "data": {
      "text/plain": [
       "<keras.src.callbacks.history.History at 0x1d8612dafc0>"
      ]
     },
     "execution_count": 111,
     "metadata": {},
     "output_type": "execute_result"
    }
   ],
   "source": [
    "# Set the seed for reproducibility\n",
    "np.random.seed(100)\n",
    "tf.random.set_seed(100)\n",
    "\n",
    "# Define the model\n",
    "visible = Input(shape=(n_steps, n_features))\n",
    "cnn = Conv1D(filters=64, kernel_size=2, activation='relu')(visible)\n",
    "cnn = MaxPooling1D(pool_size=2)(cnn)\n",
    "cnn = Flatten()(cnn)\n",
    "cnn = Dense(50, activation='relu')(cnn)\n",
    "\n",
    "# Define three separate outputs\n",
    "output1 = Dense(1)(cnn)\n",
    "output2 = Dense(1)(cnn)\n",
    "output3 = Dense(1)(cnn)\n",
    "\n",
    "# Tie together the input and output models\n",
    "model = Model(inputs=visible, outputs=[output1, output2, output3])\n",
    "model.compile(optimizer='adam', loss='mse')\n",
    "\n",
    "# Fit the model\n",
    "model.fit(X, [y1, y2, y3], epochs=2000, verbose=0)"
   ]
  },
  {
   "cell_type": "code",
   "execution_count": 112,
   "id": "dd03e4d1-239f-4f3d-a63a-ca986ac96d57",
   "metadata": {},
   "outputs": [
    {
     "name": "stdout",
     "output_type": "stream",
     "text": [
      "[<tf.Tensor: shape=(1, 1), dtype=float32, numpy=array([[100.756096]], dtype=float32)>, <tf.Tensor: shape=(1, 1), dtype=float32, numpy=array([[106.12814]], dtype=float32)>, <tf.Tensor: shape=(1, 1), dtype=float32, numpy=array([[207.09868]], dtype=float32)>]\n"
     ]
    }
   ],
   "source": [
    "# Demonstrate prediction\n",
    "x_input = np.array([[70, 75, 145], [80, 85, 165], [90, 95, 185]])\n",
    "x_input = x_input.reshape((1, n_steps, n_features))\n",
    "\n",
    "# Make a prediction using the model\n",
    "yhat = model([x_input])\n",
    "\n",
    "# Print the predicted output\n",
    "print(yhat)"
   ]
  },
  {
   "cell_type": "code",
   "execution_count": 113,
   "id": "b1da4146-a912-410c-bc0b-893c83e5d518",
   "metadata": {},
   "outputs": [
    {
     "data": {
      "text/plain": [
       "[100.756096, 106.12814, 207.09868]"
      ]
     },
     "execution_count": 113,
     "metadata": {},
     "output_type": "execute_result"
    }
   ],
   "source": [
    "# Extract numerical values from the tensors\n",
    "[tensor.numpy()[0, 0] for tensor in yhat]"
   ]
  },
  {
   "cell_type": "markdown",
   "id": "b7fdcf02-f0cb-47d8-814a-79a51e330f68",
   "metadata": {},
   "source": [
    "### 3. Multi-step CNN Models"
   ]
  },
  {
   "cell_type": "markdown",
   "id": "3bfaac6e-5e0e-44f8-85c7-fa44a0225102",
   "metadata": {},
   "source": [
    "Multi-step forecasting involves predicting a sequence of future values rather than just a single future value. This approach is essential in many real-world applications such as weather forecasting, stock market prediction, and energy demand forecasting, where anticipating future trends over multiple time steps can provide more actionable insights."
   ]
  },
  {
   "cell_type": "code",
   "execution_count": 116,
   "id": "95ed83d2-f391-4f8e-9d5e-b806d9c8fca5",
   "metadata": {},
   "outputs": [],
   "source": [
    "# Function to split a univariate sequence into samples\n",
    "def split_sequence(sequence, n_steps_in, n_steps_out):\n",
    "    X, y = [], []  # Initialize empty lists for inputs and outputs\n",
    "    for i in range(len(sequence) - n_steps_in - n_steps_out + 1):\n",
    "        # Define the end index of the input sequence\n",
    "        end_ix = i + n_steps_in\n",
    "        # Define the end index of the output sequence\n",
    "        out_end_ix = end_ix + n_steps_out\n",
    "        # Extract input and output parts of the pattern\n",
    "        seq_x, seq_y = sequence[i:end_ix], sequence[end_ix:out_end_ix]\n",
    "        X.append(seq_x)  # Append input sequence to X\n",
    "        y.append(seq_y)  # Append output sequence to y\n",
    "    return np.array(X), np.array(y)  # Convert lists to numpy arrays and return"
   ]
  },
  {
   "cell_type": "code",
   "execution_count": 117,
   "id": "31301971-86ef-4020-b580-60c0d348e734",
   "metadata": {},
   "outputs": [
    {
     "name": "stdout",
     "output_type": "stream",
     "text": [
      "Input: [10 20 30], Output: [40 50]\n",
      "Input: [20 30 40], Output: [50 60]\n",
      "Input: [30 40 50], Output: [60 70]\n",
      "Input: [40 50 60], Output: [70 80]\n",
      "Input: [50 60 70], Output: [80 90]\n"
     ]
    }
   ],
   "source": [
    "# Define input sequence\n",
    "raw_seq = [10, 20, 30, 40, 50, 60, 70, 80, 90]\n",
    "\n",
    "# Choose the number of time steps for input and output\n",
    "n_steps_in, n_steps_out = 3, 2\n",
    "\n",
    "# Split the raw sequence into samples\n",
    "X, y = split_sequence(raw_seq, n_steps_in, n_steps_out)\n",
    "\n",
    "# Summarize the data\n",
    "for i in range(len(X)):\n",
    "    print(f\"Input: {X[i]}, Output: {y[i]}\")"
   ]
  },
  {
   "cell_type": "code",
   "execution_count": 118,
   "id": "71dddd0d-8ecb-411b-9ad0-002c83b4ee15",
   "metadata": {},
   "outputs": [
    {
     "data": {
      "text/plain": [
       "array([[10, 20, 30],\n",
       "       [20, 30, 40],\n",
       "       [30, 40, 50],\n",
       "       [40, 50, 60],\n",
       "       [50, 60, 70]])"
      ]
     },
     "execution_count": 118,
     "metadata": {},
     "output_type": "execute_result"
    }
   ],
   "source": [
    "X"
   ]
  },
  {
   "cell_type": "code",
   "execution_count": 119,
   "id": "c409d8e9-e2f3-4c18-b6b5-48dd5272680b",
   "metadata": {},
   "outputs": [
    {
     "data": {
      "text/plain": [
       "(5, 3)"
      ]
     },
     "execution_count": 119,
     "metadata": {},
     "output_type": "execute_result"
    }
   ],
   "source": [
    "X.shape  # (sample size, no. of time steps)"
   ]
  },
  {
   "cell_type": "code",
   "execution_count": 120,
   "id": "c8828691-71e2-49c2-9890-c4decd258083",
   "metadata": {},
   "outputs": [],
   "source": [
    "# Reshape from [samples, timesteps] to [samples, timesteps, features]\n",
    "n_features = 1\n",
    "X = X.reshape((X.shape[0], X.shape[1], n_features))"
   ]
  },
  {
   "cell_type": "code",
   "execution_count": 121,
   "id": "6a300534-e0a7-4594-a540-f93fee4a1b64",
   "metadata": {},
   "outputs": [
    {
     "data": {
      "text/plain": [
       "(5, 3, 1)"
      ]
     },
     "execution_count": 121,
     "metadata": {},
     "output_type": "execute_result"
    }
   ],
   "source": [
    "X.shape"
   ]
  },
  {
   "cell_type": "code",
   "execution_count": 122,
   "id": "1efe3029-130f-4fde-bb00-199278c20aed",
   "metadata": {},
   "outputs": [
    {
     "data": {
      "text/plain": [
       "array([[[10],\n",
       "        [20],\n",
       "        [30]],\n",
       "\n",
       "       [[20],\n",
       "        [30],\n",
       "        [40]],\n",
       "\n",
       "       [[30],\n",
       "        [40],\n",
       "        [50]],\n",
       "\n",
       "       [[40],\n",
       "        [50],\n",
       "        [60]],\n",
       "\n",
       "       [[50],\n",
       "        [60],\n",
       "        [70]]])"
      ]
     },
     "execution_count": 122,
     "metadata": {},
     "output_type": "execute_result"
    }
   ],
   "source": [
    "X"
   ]
  },
  {
   "cell_type": "code",
   "execution_count": 123,
   "id": "00866b99-239b-4350-a323-5776b3879f8f",
   "metadata": {},
   "outputs": [
    {
     "data": {
      "text/plain": [
       "<keras.src.callbacks.history.History at 0x1d868559700>"
      ]
     },
     "execution_count": 123,
     "metadata": {},
     "output_type": "execute_result"
    }
   ],
   "source": [
    "# Set the seed for reproducibility\n",
    "np.random.seed(100)\n",
    "tf.random.set_seed(100)\n",
    "\n",
    "# Define the model\n",
    "model = Sequential([\n",
    "    # Add a 1D convolutional layer with 64 filters, kernel size of 2, and ReLU activation\n",
    "    # The input shape is defined by n_steps_in (timesteps) and n_features (number of features)\n",
    "    Conv1D(filters=64, kernel_size=2, activation='relu', input_shape=(n_steps_in, n_features)),\n",
    "    \n",
    "    # Add a max pooling layer to reduce the dimensionality of the data\n",
    "    # Pool size of 2 means it reduces the input size by half\n",
    "    MaxPooling1D(pool_size=2),\n",
    "    \n",
    "    # Flatten the data to convert the 2D matrix into a 1D vector\n",
    "    # This prepares the data for the fully connected layers\n",
    "    Flatten(),\n",
    "    \n",
    "    # Add a dense (fully connected) layer with 50 neurons and ReLU activation\n",
    "    Dense(50, activation='relu'),\n",
    "    \n",
    "    # Add the output layer with neurons equal to the number of steps we want to predict (n_steps_out)\n",
    "    Dense(n_steps_out)\n",
    "])\n",
    "\n",
    "# Compile the model using the Adam optimizer and mean squared error (MSE) loss function\n",
    "model.compile(optimizer='adam', loss='mse')\n",
    "\n",
    "# Fit the model on the dataset (X, y)\n",
    "# Train the model for 3000 epochs\n",
    "model.fit(X, y, epochs=3000, verbose=0)"
   ]
  },
  {
   "cell_type": "code",
   "execution_count": 124,
   "id": "69082d78-67fb-44e5-b72c-e543fd5c2652",
   "metadata": {},
   "outputs": [
    {
     "name": "stdout",
     "output_type": "stream",
     "text": [
      "tf.Tensor([[103.04314 115.31215]], shape=(1, 2), dtype=float32)\n"
     ]
    }
   ],
   "source": [
    "# Demonstrate prediction\n",
    "# Define a new input sample\n",
    "x_input = np.array([70, 80, 90]).reshape((1, n_steps_in, n_features))\n",
    "\n",
    "# Make a prediction using the model\n",
    "yhat = model([x_input])\n",
    "\n",
    "# Print the predicted output\n",
    "print(yhat)"
   ]
  },
  {
   "cell_type": "markdown",
   "id": "a3ce1913-cc0b-4b44-b73a-c2b167bfb2b5",
   "metadata": {},
   "source": [
    "### 4. Multivariate Multi-step CNN Models"
   ]
  },
  {
   "cell_type": "markdown",
   "id": "fc9169c9-6167-4832-bef8-1e11348819c2",
   "metadata": {},
   "source": [
    "### 4.1. Multiple Input Multi-step Output"
   ]
  },
  {
   "cell_type": "code",
   "execution_count": 127,
   "id": "4d9975bd-f98b-4ec6-b150-9492172b5dcd",
   "metadata": {},
   "outputs": [],
   "source": [
    "# Function to split a multivariate sequence into samples\n",
    "def split_sequences(sequences, n_steps_in, n_steps_out):\n",
    "    X, y = [], []  # Initialize empty lists for inputs and outputs\n",
    "    for i in range(len(sequences) - n_steps_in - n_steps_out + 1):\n",
    "        # Define the end index of the input sequence\n",
    "        end_ix = i + n_steps_in\n",
    "        # Define the end index of the output sequence\n",
    "        out_end_ix = end_ix + n_steps_out - 1\n",
    "        # Extract input and output parts of the pattern\n",
    "        seq_x, seq_y = sequences[i:end_ix, :-1], sequences[end_ix-1:out_end_ix, -1]\n",
    "        X.append(seq_x)  # Append input sequence to X\n",
    "        y.append(seq_y)  # Append output sequence to y\n",
    "    return np.array(X), np.array(y)  # Convert lists to numpy arrays and return"
   ]
  },
  {
   "cell_type": "code",
   "execution_count": 128,
   "id": "1ed11b3d-7cee-4c4d-bdfd-c23b9353362c",
   "metadata": {},
   "outputs": [
    {
     "name": "stdout",
     "output_type": "stream",
     "text": [
      "(5, 3, 2) (5, 2)\n",
      "Input:\n",
      " [[10 15]\n",
      " [20 25]\n",
      " [30 35]], Output: [65 85]\n",
      "==================================================\n",
      "Input:\n",
      " [[20 25]\n",
      " [30 35]\n",
      " [40 45]], Output: [ 85 105]\n",
      "==================================================\n",
      "Input:\n",
      " [[30 35]\n",
      " [40 45]\n",
      " [50 55]], Output: [105 125]\n",
      "==================================================\n",
      "Input:\n",
      " [[40 45]\n",
      " [50 55]\n",
      " [60 65]], Output: [125 145]\n",
      "==================================================\n",
      "Input:\n",
      " [[50 55]\n",
      " [60 65]\n",
      " [70 75]], Output: [145 165]\n",
      "==================================================\n"
     ]
    }
   ],
   "source": [
    "# Define input sequences\n",
    "in_seq1 = np.array([10, 20, 30, 40, 50, 60, 70, 80, 90]).reshape(-1, 1)\n",
    "in_seq2 = np.array([15, 25, 35, 45, 55, 65, 75, 85, 95]).reshape(-1, 1)\n",
    "\n",
    "# Define output sequence as the sum of input sequences\n",
    "out_seq = (in_seq1 + in_seq2).reshape(-1, 1)\n",
    "\n",
    "# Horizontally stack columns to form the dataset\n",
    "dataset = np.hstack((in_seq1, in_seq2, out_seq))\n",
    "\n",
    "# Choose the number of time steps for input and output\n",
    "n_steps_in, n_steps_out = 3, 2\n",
    "\n",
    "# Convert dataset into input/output pairs\n",
    "X, y = split_sequences(dataset, n_steps_in, n_steps_out)\n",
    "\n",
    "# Print the shapes of the input and output arrays\n",
    "print(X.shape, y.shape)\n",
    "\n",
    "# Summarize the data\n",
    "for i in range(len(X)):\n",
    "    print(f\"Input:\\n {X[i]}, Output: {y[i]}\")\n",
    "    print('=' * 50)"
   ]
  },
  {
   "cell_type": "code",
   "execution_count": 129,
   "id": "41cdda17-ab6f-4d03-9c3f-cb7cabc5749d",
   "metadata": {},
   "outputs": [
    {
     "data": {
      "text/plain": [
       "<keras.src.callbacks.history.History at 0x1d869ad5790>"
      ]
     },
     "execution_count": 129,
     "metadata": {},
     "output_type": "execute_result"
    }
   ],
   "source": [
    "# Set the seed for reproducibility\n",
    "np.random.seed(100)\n",
    "tf.random.set_seed(100)\n",
    "\n",
    "# Number of features in the dataset\n",
    "n_features = X.shape[2]\n",
    "\n",
    "# Define the model\n",
    "model = Sequential([\n",
    "    # Add a 1D convolutional layer with 64 filters, kernel size of 2, and ReLU activation\n",
    "    Conv1D(filters=64, kernel_size=2, activation='relu', input_shape=(n_steps_in, n_features)),\n",
    "    \n",
    "    # Add a max pooling layer to reduce the dimensionality of the data\n",
    "    MaxPooling1D(pool_size=2),\n",
    "    \n",
    "    # Flatten the data to convert the 2D matrix into a 1D vector\n",
    "    Flatten(),\n",
    "    \n",
    "    # Add a dense (fully connected) layer with 50 neurons and ReLU activation\n",
    "    Dense(50, activation='relu'),\n",
    "    \n",
    "    # Add the output layer with neurons equal to the number of steps we want to predict (n_steps_out)\n",
    "    Dense(n_steps_out)\n",
    "])\n",
    "\n",
    "# Compile the model using the Adam optimizer and mean squared error (MSE) loss function\n",
    "model.compile(optimizer='adam', loss='mse')\n",
    "\n",
    "# Fit the model on the dataset (X, y) for 2000 epochs\n",
    "model.fit(X, y, epochs=2000, verbose=0)"
   ]
  },
  {
   "cell_type": "code",
   "execution_count": 130,
   "id": "51758a6b-f34e-48f8-be0a-be316977f063",
   "metadata": {},
   "outputs": [
    {
     "name": "stdout",
     "output_type": "stream",
     "text": [
      "tf.Tensor([[185.00484 206.50314]], shape=(1, 2), dtype=float32)\n"
     ]
    }
   ],
   "source": [
    "# Demonstrate prediction\n",
    "# Define a new input sample\n",
    "x_input = np.array([[70, 75], [80, 85], [90, 95]])\n",
    "# Reshape input to match the model's expected input shape (1 sample, n_steps_in, n_features)\n",
    "x_input = x_input.reshape((1, n_steps_in, n_features))\n",
    "\n",
    "# Make a prediction using the model\n",
    "yhat = model([x_input])\n",
    "\n",
    "# Print the predicted output\n",
    "print(yhat)"
   ]
  },
  {
   "cell_type": "markdown",
   "id": "1c5e3a9e-7f90-4269-b0a0-7362aabfe53c",
   "metadata": {},
   "source": [
    "### 4.2. Multiple Parallel Input and Multi-step Output"
   ]
  },
  {
   "cell_type": "markdown",
   "id": "6f6c512b-eb22-4886-b6fe-57ebc59dc294",
   "metadata": {},
   "source": [
    "A problem with parallel time series may require the prediction of multiple time steps of each \n",
    "time series. "
   ]
  },
  {
   "cell_type": "code",
   "execution_count": 133,
   "id": "c0e63f42-eb60-43c7-ad3c-4c02ac004e34",
   "metadata": {},
   "outputs": [],
   "source": [
    "# Function to split a multivariate sequence into samples\n",
    "def split_sequences(sequences, n_steps_in, n_steps_out):\n",
    "    X, y = [], []  # Initialize empty lists for inputs and outputs\n",
    "    for i in range(len(sequences) - n_steps_in - n_steps_out + 1):\n",
    "        # Define the end index of the input sequence\n",
    "        end_ix = i + n_steps_in\n",
    "        # Define the end index of the output sequence\n",
    "        out_end_ix = end_ix + n_steps_out\n",
    "        # Extract input and output parts of the pattern\n",
    "        seq_x, seq_y = sequences[i:end_ix, :], sequences[end_ix:out_end_ix, :]\n",
    "        X.append(seq_x)  # Append input sequence to X\n",
    "        y.append(seq_y)  # Append output sequence to y\n",
    "    return np.array(X), np.array(y)  # Convert lists to numpy arrays and return"
   ]
  },
  {
   "cell_type": "code",
   "execution_count": 134,
   "id": "88d3ecd2-28e5-4363-b04d-438d0be799fa",
   "metadata": {},
   "outputs": [
    {
     "name": "stdout",
     "output_type": "stream",
     "text": [
      "(5, 3, 3) (5, 2, 3)\n",
      "Input:\n",
      " [[10 15 25]\n",
      " [20 25 45]\n",
      " [30 35 65]], \n",
      "Output: \n",
      "[[ 40  45  85]\n",
      " [ 50  55 105]]\n",
      "==================================================\n",
      "Input:\n",
      " [[20 25 45]\n",
      " [30 35 65]\n",
      " [40 45 85]], \n",
      "Output: \n",
      "[[ 50  55 105]\n",
      " [ 60  65 125]]\n",
      "==================================================\n",
      "Input:\n",
      " [[ 30  35  65]\n",
      " [ 40  45  85]\n",
      " [ 50  55 105]], \n",
      "Output: \n",
      "[[ 60  65 125]\n",
      " [ 70  75 145]]\n",
      "==================================================\n",
      "Input:\n",
      " [[ 40  45  85]\n",
      " [ 50  55 105]\n",
      " [ 60  65 125]], \n",
      "Output: \n",
      "[[ 70  75 145]\n",
      " [ 80  85 165]]\n",
      "==================================================\n",
      "Input:\n",
      " [[ 50  55 105]\n",
      " [ 60  65 125]\n",
      " [ 70  75 145]], \n",
      "Output: \n",
      "[[ 80  85 165]\n",
      " [ 90  95 185]]\n",
      "==================================================\n"
     ]
    }
   ],
   "source": [
    "# Define input sequences\n",
    "in_seq1 = np.array([10, 20, 30, 40, 50, 60, 70, 80, 90]).reshape(-1, 1)\n",
    "in_seq2 = np.array([15, 25, 35, 45, 55, 65, 75, 85, 95]).reshape(-1, 1)\n",
    "\n",
    "# Define output sequence as the sum of input sequences\n",
    "out_seq = (in_seq1 + in_seq2).reshape(-1, 1)\n",
    "\n",
    "# Horizontally stack columns to form the dataset\n",
    "dataset = np.hstack((in_seq1, in_seq2, out_seq))\n",
    "\n",
    "# Choose the number of time steps for input and output\n",
    "n_steps_in, n_steps_out = 3, 2\n",
    "\n",
    "# Convert dataset into input/output pairs\n",
    "X, y = split_sequences(dataset, n_steps_in, n_steps_out)\n",
    "\n",
    "# Print the shapes of the input and output arrays\n",
    "print(X.shape, y.shape)\n",
    "\n",
    "# Summarize the data\n",
    "for i in range(len(X)):\n",
    "    print(f\"Input:\\n {X[i]}, \\nOutput: \\n{y[i]}\")\n",
    "    print('=' * 50)"
   ]
  },
  {
   "cell_type": "code",
   "execution_count": 135,
   "id": "1896f577-1414-4027-ae10-560b7d74e23b",
   "metadata": {},
   "outputs": [],
   "source": [
    "# Flatten output to match the required shape for the model\n",
    "n_output = y.shape[1] * y.shape[2]\n",
    "y = y.reshape((y.shape[0], n_output))\n",
    "\n",
    "# Number of features in the dataset\n",
    "n_features = X.shape[2]"
   ]
  },
  {
   "cell_type": "code",
   "execution_count": 136,
   "id": "5c3a52c0-c7ed-4853-ad0b-50f9b22a0a23",
   "metadata": {},
   "outputs": [
    {
     "data": {
      "text/plain": [
       "array([[ 40,  45,  85,  50,  55, 105],\n",
       "       [ 50,  55, 105,  60,  65, 125],\n",
       "       [ 60,  65, 125,  70,  75, 145],\n",
       "       [ 70,  75, 145,  80,  85, 165],\n",
       "       [ 80,  85, 165,  90,  95, 185]])"
      ]
     },
     "execution_count": 136,
     "metadata": {},
     "output_type": "execute_result"
    }
   ],
   "source": [
    "y"
   ]
  },
  {
   "cell_type": "code",
   "execution_count": 137,
   "id": "20c0a021-6dab-4985-be6f-119538473394",
   "metadata": {},
   "outputs": [
    {
     "data": {
      "text/plain": [
       "<keras.src.callbacks.history.History at 0x1d86496e570>"
      ]
     },
     "execution_count": 137,
     "metadata": {},
     "output_type": "execute_result"
    }
   ],
   "source": [
    "# Set the seed for reproducibility\n",
    "np.random.seed(100)\n",
    "tf.random.set_seed(100)\n",
    "\n",
    "# Define the model\n",
    "model = Sequential([\n",
    "    # Add a 1D convolutional layer with 64 filters, kernel size of 2, and ReLU activation\n",
    "    Conv1D(filters=64, kernel_size=2, activation='relu', input_shape=(n_steps_in, n_features)),\n",
    "    \n",
    "    # Add a max pooling layer to reduce the dimensionality of the data\n",
    "    MaxPooling1D(pool_size=2),\n",
    "    \n",
    "    # Flatten the data to convert the 2D matrix into a 1D vector\n",
    "    Flatten(),\n",
    "    \n",
    "    # Add a dense (fully connected) layer with 50 neurons and ReLU activation\n",
    "    Dense(50, activation='relu'),\n",
    "    \n",
    "    # Add the output layer with neurons equal to the number of flattened output steps (n_output)\n",
    "    Dense(n_output)\n",
    "])\n",
    "\n",
    "# Compile the model using the Adam optimizer and mean squared error loss function\n",
    "model.compile(optimizer='adam', loss='mse')\n",
    "\n",
    "# Fit the model on the dataset (X, y) for 3000 epochs\n",
    "model.fit(X, y, epochs=3000, verbose=0)"
   ]
  },
  {
   "cell_type": "code",
   "execution_count": 138,
   "id": "3fc3fc5b-0e22-42a8-a8d9-b3a25150ec8f",
   "metadata": {},
   "outputs": [
    {
     "name": "stdout",
     "output_type": "stream",
     "text": [
      "tf.Tensor([[ 91.11886   96.84409  188.23601  102.49266  107.750145 210.81903 ]], shape=(1, 6), dtype=float32)\n"
     ]
    }
   ],
   "source": [
    "# Demonstrate prediction\n",
    "# Define a new input sample\n",
    "x_input = np.array([[60, 65, 125], [70, 75, 145], [80, 85, 165]])\n",
    "# Reshape input to match the model's expected input shape (1 sample, n_steps_in, n_features)\n",
    "x_input = x_input.reshape((1, n_steps_in, n_features))\n",
    "\n",
    "# Make a prediction using the model\n",
    "yhat = model([x_input])\n",
    "\n",
    "# Print the predicted output\n",
    "print(yhat)"
   ]
  },
  {
   "cell_type": "markdown",
   "id": "8cd2bb89-5b15-47eb-b581-2cf6fd5b144b",
   "metadata": {},
   "source": [
    "### Using Multi-headed CNN model for PJMW hourly data"
   ]
  },
  {
   "cell_type": "code",
   "execution_count": 141,
   "id": "ded297c3-c924-41ca-8bec-eb283fa6a6d0",
   "metadata": {},
   "outputs": [
    {
     "data": {
      "text/html": [
       "<div>\n",
       "<style scoped>\n",
       "    .dataframe tbody tr th:only-of-type {\n",
       "        vertical-align: middle;\n",
       "    }\n",
       "\n",
       "    .dataframe tbody tr th {\n",
       "        vertical-align: top;\n",
       "    }\n",
       "\n",
       "    .dataframe thead th {\n",
       "        text-align: right;\n",
       "    }\n",
       "</style>\n",
       "<table border=\"1\" class=\"dataframe\">\n",
       "  <thead>\n",
       "    <tr style=\"text-align: right;\">\n",
       "      <th></th>\n",
       "      <th>PJMW_MW</th>\n",
       "    </tr>\n",
       "    <tr>\n",
       "      <th>Datetime</th>\n",
       "      <th></th>\n",
       "    </tr>\n",
       "  </thead>\n",
       "  <tbody>\n",
       "    <tr>\n",
       "      <th>2002-12-31 01:00:00</th>\n",
       "      <td>5077.0</td>\n",
       "    </tr>\n",
       "    <tr>\n",
       "      <th>2002-12-31 02:00:00</th>\n",
       "      <td>4939.0</td>\n",
       "    </tr>\n",
       "    <tr>\n",
       "      <th>2002-12-31 03:00:00</th>\n",
       "      <td>4885.0</td>\n",
       "    </tr>\n",
       "    <tr>\n",
       "      <th>2002-12-31 04:00:00</th>\n",
       "      <td>4857.0</td>\n",
       "    </tr>\n",
       "    <tr>\n",
       "      <th>2002-12-31 05:00:00</th>\n",
       "      <td>4930.0</td>\n",
       "    </tr>\n",
       "  </tbody>\n",
       "</table>\n",
       "</div>"
      ],
      "text/plain": [
       "                     PJMW_MW\n",
       "Datetime                    \n",
       "2002-12-31 01:00:00   5077.0\n",
       "2002-12-31 02:00:00   4939.0\n",
       "2002-12-31 03:00:00   4885.0\n",
       "2002-12-31 04:00:00   4857.0\n",
       "2002-12-31 05:00:00   4930.0"
      ]
     },
     "execution_count": 141,
     "metadata": {},
     "output_type": "execute_result"
    }
   ],
   "source": [
    "df = pd.read_csv('PJMW_hourly.csv')\n",
    "df = df.set_index('Datetime')\n",
    "df.index = pd.to_datetime(df.index)\n",
    "df.head()"
   ]
  },
  {
   "cell_type": "code",
   "execution_count": 143,
   "id": "f2fc098f-35d9-4794-8439-ffb704346aee",
   "metadata": {},
   "outputs": [],
   "source": [
    "# Resample the data to daily frequency, aggregating by sum\n",
    "df_daily = df.PJMW_MW.resample('D').sum()"
   ]
  },
  {
   "cell_type": "code",
   "execution_count": 145,
   "id": "7d91c2c4-6b00-4356-8c8b-6b33a653debc",
   "metadata": {},
   "outputs": [
    {
     "data": {
      "image/png": "[encoded data removed]",
      "text/plain": [
       "<Figure size 2000x800 with 1 Axes>"
      ]
     },
     "metadata": {},
     "output_type": "display_data"
    }
   ],
   "source": [
    "df_daily.plot(figsize=(20, 8));"
   ]
  },
  {
   "cell_type": "code",
   "execution_count": 163,
   "id": "be629d68-f09a-49df-8a34-f0f0e57976cf",
   "metadata": {},
   "outputs": [],
   "source": [
    "def feature_engineering(dataframe):\n",
    "    \"\"\"\n",
    "    Create time-based features from the datetime index of the DataFrame.\n",
    "    \n",
    "    Parameters:\n",
    "    df (DataFrame): The input DataFrame with a datetime index.\n",
    "    \n",
    "    Returns:\n",
    "    DataFrame: A new DataFrame with additional time-based features.\n",
    "    \"\"\"\n",
    "    new_df = dataframe.copy()  # Create a copy of the DataFrame to avoid modifying the original\n",
    "    new_df['dayofweek'] = dataframe.index.dayofweek\n",
    "    new_df['quarter'] = dataframe.index.quarter\n",
    "    new_df['month'] = dataframe.index.month\n",
    "    new_df['year'] = dataframe.index.year\n",
    "    new_df['dayofyear'] = dataframe.index.dayofyear\n",
    "    return new_df\n",
    "\n",
    "# Apply the feature creation function to the DataFrame\n",
    "df_eng = feature_engineering(df_daily)"
   ]
  },
  {
   "cell_type": "code",
   "execution_count": 165,
   "id": "e26f97e3-8185-4062-842b-95a4783efd4c",
   "metadata": {},
   "outputs": [
    {
     "data": {
      "text/plain": [
       "Datetime\n",
       "2002-04-01 00:00:00                                             121237.0\n",
       "2002-04-02 00:00:00                                             127450.0\n",
       "2002-04-03 00:00:00                                             127822.0\n",
       "2002-04-04 00:00:00                                             136099.0\n",
       "2002-04-05 00:00:00                                             136467.0\n",
       "                                             ...                        \n",
       "dayofweek              Index([0, 1, 2, 3, 4, 5, 6, 0, 1, 2,\n",
       "       .....\n",
       "quarter                Index([2, 2, 2, 2, 2, 2, 2, 2, 2, 2,\n",
       "       .....\n",
       "month                  Index([4, 4, 4, 4, 4, 4, 4, 4, 4, 4,\n",
       "       .....\n",
       "year                   Index([2002, 2002, 2002, 2002, 2002, 2002, 200...\n",
       "dayofyear              Index([ 91,  92,  93,  94,  95,  96,  97,  98,...\n",
       "Name: PJMW_MW, Length: 5974, dtype: object"
      ]
     },
     "execution_count": 165,
     "metadata": {},
     "output_type": "execute_result"
    }
   ],
   "source": [
    "df_eng"
   ]
  },
  {
   "cell_type": "code",
   "execution_count": 195,
   "id": "ec592441-4c60-4548-a54f-9ed9cf65293b",
   "metadata": {},
   "outputs": [],
   "source": [
    "def create_multivariate_data(df, window_size):\n",
    "    \"\"\"\n",
    "    Convert the DataFrame to a multivariate dataset for MLP with a sliding window approach.\n",
    "    \n",
    "    Parameters:\n",
    "    df (DataFrame): The input DataFrame.\n",
    "    window_size (int): The size of the sliding window (e.g., 7 for a week).\n",
    "    \n",
    "    Returns:\n",
    "    X, y (numpy arrays): Multivariate input features and target values.\n",
    "    \"\"\"\n",
    "    X, y = [], []\n",
    "    for i in range(len(df) - window_size):\n",
    "        X.append(df.iloc[i:i + window_size].values)\n",
    "        y.append(df.iloc[i + window_size]['PJMW_MW'])\n",
    "    return np.array(X), np.array(y)"
   ]
  },
  {
   "cell_type": "code",
   "execution_count": 197,
   "id": "4f517db7-5949-4c27-adf4-9a72884b54be",
   "metadata": {},
   "outputs": [
    {
     "ename": "TypeError",
     "evalue": "'float' object is not subscriptable",
     "output_type": "error",
     "traceback": [
      "\u001b[1;31m---------------------------------------------------------------------------\u001b[0m",
      "\u001b[1;31mTypeError\u001b[0m                                 Traceback (most recent call last)",
      "Cell \u001b[1;32mIn[197], line 1\u001b[0m\n\u001b[1;32m----> 1\u001b[0m X, y \u001b[38;5;241m=\u001b[39m create_multivariate_data(df_eng, \u001b[38;5;241m7\u001b[39m)\n",
      "Cell \u001b[1;32mIn[195], line 15\u001b[0m, in \u001b[0;36mcreate_multivariate_data\u001b[1;34m(df, window_size)\u001b[0m\n\u001b[0;32m     13\u001b[0m \u001b[38;5;28;01mfor\u001b[39;00m i \u001b[38;5;129;01min\u001b[39;00m \u001b[38;5;28mrange\u001b[39m(\u001b[38;5;28mlen\u001b[39m(df) \u001b[38;5;241m-\u001b[39m window_size):\n\u001b[0;32m     14\u001b[0m     X\u001b[38;5;241m.\u001b[39mappend(df\u001b[38;5;241m.\u001b[39miloc[i:i \u001b[38;5;241m+\u001b[39m window_size]\u001b[38;5;241m.\u001b[39mvalues)\n\u001b[1;32m---> 15\u001b[0m     y\u001b[38;5;241m.\u001b[39mappend(df\u001b[38;5;241m.\u001b[39miloc[i \u001b[38;5;241m+\u001b[39m window_size][\u001b[38;5;124m'\u001b[39m\u001b[38;5;124mPJMW_MW\u001b[39m\u001b[38;5;124m'\u001b[39m])\n\u001b[0;32m     16\u001b[0m \u001b[38;5;28;01mreturn\u001b[39;00m np\u001b[38;5;241m.\u001b[39marray(X), np\u001b[38;5;241m.\u001b[39marray(y)\n",
      "\u001b[1;31mTypeError\u001b[0m: 'float' object is not subscriptable"
     ]
    }
   ],
   "source": [
    "X, y = create_multivariate_data(df_eng, 7)"
   ]
  },
  {
   "cell_type": "code",
   "execution_count": 155,
   "id": "52952942-c4cd-49e4-bbbd-e7c4ed65f0d8",
   "metadata": {},
   "outputs": [
    {
     "data": {
      "text/plain": [
       "array([[10, 15, 25],\n",
       "       [20, 25, 45],\n",
       "       [30, 35, 65]])"
      ]
     },
     "execution_count": 155,
     "metadata": {},
     "output_type": "execute_result"
    }
   ],
   "source": [
    "X[0]"
   ]
  },
  {
   "cell_type": "code",
   "execution_count": 157,
   "id": "696e245d-77a7-48f0-a8f6-038a7b209d2c",
   "metadata": {},
   "outputs": [
    {
     "ename": "IndexError",
     "evalue": "index 3 is out of bounds for axis 2 with size 3",
     "output_type": "error",
     "traceback": [
      "\u001b[1;31m---------------------------------------------------------------------------\u001b[0m",
      "\u001b[1;31mIndexError\u001b[0m                                Traceback (most recent call last)",
      "Cell \u001b[1;32mIn[157], line 4\u001b[0m\n\u001b[0;32m      2\u001b[0m X2 \u001b[38;5;241m=\u001b[39m X[:, :, \u001b[38;5;241m1\u001b[39m]\n\u001b[0;32m      3\u001b[0m X3 \u001b[38;5;241m=\u001b[39m X[:, :, \u001b[38;5;241m2\u001b[39m]\n\u001b[1;32m----> 4\u001b[0m X4 \u001b[38;5;241m=\u001b[39m X[:, :, \u001b[38;5;241m3\u001b[39m]\n\u001b[0;32m      5\u001b[0m X5 \u001b[38;5;241m=\u001b[39m X[:, :, \u001b[38;5;241m4\u001b[39m]\n\u001b[0;32m      6\u001b[0m X6 \u001b[38;5;241m=\u001b[39m X[:, :, \u001b[38;5;241m5\u001b[39m]\n",
      "\u001b[1;31mIndexError\u001b[0m: index 3 is out of bounds for axis 2 with size 3"
     ]
    }
   ],
   "source": [
    "X1 = X[:, :, 0]\n",
    "X2 = X[:, :, 1]\n",
    "X3 = X[:, :, 2]\n",
    "X4 = X[:, :, 3]\n",
    "X5 = X[:, :, 4]\n",
    "X6 = X[:, :, 5]"
   ]
  },
  {
   "cell_type": "code",
   "execution_count": 159,
   "id": "b6bb9282-d8ad-4917-a0df-809a90c4060b",
   "metadata": {},
   "outputs": [
    {
     "ename": "NameError",
     "evalue": "name 'seed' is not defined",
     "output_type": "error",
     "traceback": [
      "\u001b[1;31m---------------------------------------------------------------------------\u001b[0m",
      "\u001b[1;31mNameError\u001b[0m                                 Traceback (most recent call last)",
      "Cell \u001b[1;32mIn[159], line 2\u001b[0m\n\u001b[0;32m      1\u001b[0m \u001b[38;5;66;03m# Split data into training, validation, and test sets (60% training, 20% validation, 20% testing)\u001b[39;00m\n\u001b[1;32m----> 2\u001b[0m X1_train, X1_temp, y_train, y_temp \u001b[38;5;241m=\u001b[39m train_test_split(X1, y, test_size\u001b[38;5;241m=\u001b[39m\u001b[38;5;241m0.4\u001b[39m, random_state\u001b[38;5;241m=\u001b[39mseed)\n\u001b[0;32m      3\u001b[0m X1_val, X1_test, y_val, y_test \u001b[38;5;241m=\u001b[39m train_test_split(X1_temp, y_temp, test_size\u001b[38;5;241m=\u001b[39m\u001b[38;5;241m0.5\u001b[39m, random_state\u001b[38;5;241m=\u001b[39mseed)\n\u001b[0;32m      5\u001b[0m X2_train, X2_temp, _, _ \u001b[38;5;241m=\u001b[39m train_test_split(X2, y, test_size\u001b[38;5;241m=\u001b[39m\u001b[38;5;241m0.4\u001b[39m, random_state\u001b[38;5;241m=\u001b[39mseed)\n",
      "\u001b[1;31mNameError\u001b[0m: name 'seed' is not defined"
     ]
    }
   ],
   "source": [
    "# Split data into training, validation, and test sets (60% training, 20% validation, 20% testing)\n",
    "X1_train, X1_temp, y_train, y_temp = train_test_split(X1, y, test_size=0.4, random_state=seed)\n",
    "X1_val, X1_test, y_val, y_test = train_test_split(X1_temp, y_temp, test_size=0.5, random_state=seed)\n",
    "\n",
    "X2_train, X2_temp, _, _ = train_test_split(X2, y, test_size=0.4, random_state=seed)\n",
    "X2_val, X2_test, _, _ = train_test_split(X2_temp, y_temp, test_size=0.5, random_state=seed)\n",
    "\n",
    "X3_train, X3_temp, _, _ = train_test_split(X3, y, test_size=0.4, random_state=seed)\n",
    "X3_val, X3_test, _, _ = train_test_split(X3_temp, y_temp, test_size=0.5, random_state=seed)\n",
    "\n",
    "X4_train, X4_temp, _, _ = train_test_split(X4, y, test_size=0.4, random_state=seed)\n",
    "X4_val, X4_test, _, _ = train_test_split(X4_temp, y_temp, test_size=0.5, random_state=seed)\n",
    "\n",
    "X5_train, X5_temp, _, _ = train_test_split(X5, y, test_size=0.4, random_state=seed)\n",
    "X5_val, X5_test, _, _ = train_test_split(X5_temp, y_temp, test_size=0.5, random_state=seed)\n",
    "\n",
    "X6_train, X6_temp, _, _ = train_test_split(X6, y, test_size=0.4, random_state=seed)\n",
    "X6_val, X6_test, _, _ = train_test_split(X6_temp, y_temp, test_size=0.5, random_state=seed)"
   ]
  },
  {
   "cell_type": "code",
   "execution_count": 161,
   "id": "bd7c315b-0a01-4081-b712-bdef7dad2285",
   "metadata": {},
   "outputs": [
    {
     "ename": "NameError",
     "evalue": "name 'X1_train' is not defined",
     "output_type": "error",
     "traceback": [
      "\u001b[1;31m---------------------------------------------------------------------------\u001b[0m",
      "\u001b[1;31mNameError\u001b[0m                                 Traceback (most recent call last)",
      "Cell \u001b[1;32mIn[161], line 51\u001b[0m\n\u001b[0;32m     47\u001b[0m model_3\u001b[38;5;241m.\u001b[39mcompile(optimizer\u001b[38;5;241m=\u001b[39m\u001b[38;5;124m'\u001b[39m\u001b[38;5;124madam\u001b[39m\u001b[38;5;124m'\u001b[39m, loss\u001b[38;5;241m=\u001b[39m\u001b[38;5;124m'\u001b[39m\u001b[38;5;124mmse\u001b[39m\u001b[38;5;124m'\u001b[39m)\n\u001b[0;32m     49\u001b[0m \u001b[38;5;66;03m# Fit the model\u001b[39;00m\n\u001b[0;32m     50\u001b[0m history_3 \u001b[38;5;241m=\u001b[39m model_3\u001b[38;5;241m.\u001b[39mfit(\n\u001b[1;32m---> 51\u001b[0m     [X1_train, X2_train, X3_train, X4_train, X5_train, X6_train], y_train,\n\u001b[0;32m     52\u001b[0m     epochs\u001b[38;5;241m=\u001b[39m\u001b[38;5;241m1000\u001b[39m, verbose\u001b[38;5;241m=\u001b[39m\u001b[38;5;241m1\u001b[39m,\n\u001b[0;32m     53\u001b[0m     validation_data\u001b[38;5;241m=\u001b[39m([X1_val, X2_val, X3_val, X4_val, X5_val, X6_val], y_val)\n\u001b[0;32m     54\u001b[0m )\n",
      "\u001b[1;31mNameError\u001b[0m: name 'X1_train' is not defined"
     ]
    }
   ],
   "source": [
    "# Set the random seeds for reproducibility\n",
    "seed = 42\n",
    "np.random.seed(seed)\n",
    "tf.random.set_seed(seed)\n",
    "\n",
    "# Define the number of time steps\n",
    "n_steps = 7\n",
    "n_features = 1  # Assuming each time step has a single feature\n",
    "\n",
    "# First input model\n",
    "visible1 = Input(shape=(n_steps, n_features))\n",
    "conv1 = Conv1D(filters=64, kernel_size=2, activation='relu')(visible1)\n",
    "flat1 = Flatten()(conv1)\n",
    "\n",
    "# Second input model\n",
    "visible2 = Input(shape=(n_steps, n_features))\n",
    "conv2 = Conv1D(filters=64, kernel_size=2, activation='relu')(visible2)\n",
    "flat2 = Flatten()(conv2)\n",
    "\n",
    "# Third input model\n",
    "visible3 = Input(shape=(n_steps, n_features))\n",
    "conv3 = Conv1D(filters=64, kernel_size=2, activation='relu')(visible3)\n",
    "flat3 = Flatten()(conv3)\n",
    "\n",
    "# Fourth input model\n",
    "visible4 = Input(shape=(n_steps, n_features))\n",
    "conv4 = Conv1D(filters=64, kernel_size=2, activation='relu')(visible4)\n",
    "flat4 = Flatten()(conv4)\n",
    "\n",
    "# Fifth input model\n",
    "visible5 = Input(shape=(n_steps, n_features))\n",
    "conv5 = Conv1D(filters=64, kernel_size=2, activation='relu')(visible5)\n",
    "flat5 = Flatten()(conv5)\n",
    "\n",
    "# Sixth input model\n",
    "visible6 = Input(shape=(n_steps, n_features))\n",
    "conv6 = Conv1D(filters=64, kernel_size=2, activation='relu')(visible6)\n",
    "flat6 = Flatten()(conv6)\n",
    "\n",
    "# Merge input models\n",
    "merged = concatenate([flat1, flat2, flat3, flat4, flat5, flat6])\n",
    "dense1 = Dense(100, activation='relu')(merged)\n",
    "output = Dense(1)(dense1)\n",
    "\n",
    "# Create and compile the model\n",
    "model_3 = Model(inputs=[visible1, visible2, visible3, visible4, visible5, visible6], outputs=output)\n",
    "model_3.compile(optimizer='adam', loss='mse')\n",
    "\n",
    "# Fit the model\n",
    "history_3 = model_3.fit(\n",
    "    [X1_train, X2_train, X3_train, X4_train, X5_train, X6_train], y_train,\n",
    "    epochs=1000, verbose=1,\n",
    "    validation_data=([X1_val, X2_val, X3_val, X4_val, X5_val, X6_val], y_val)\n",
    ")"
   ]
  },
  {
   "cell_type": "code",
   "execution_count": null,
   "id": "6f5addf0-e746-4ce5-935e-3e2ddd12fa1b",
   "metadata": {},
   "outputs": [],
   "source": [
    "# Plot training & validation loss values\n",
    "plt.figure(figsize=(10, 5))\n",
    "plt.plot(history_3.history['loss'][5:], label='Train Loss')\n",
    "plt.plot(history_3.history['val_loss'][5:], label='Validation Loss')\n",
    "plt.title('Model Loss')\n",
    "plt.ylabel('Loss')\n",
    "plt.xlabel('Epoch')\n",
    "plt.legend(loc='upper right')\n",
    "plt.show()\n",
    "\n",
    "# Predict values\n",
    "y_train_pred = model_3.predict([X1_train, X2_train, X3_train, X4_train, X5_train, X6_train])\n",
    "y_val_pred = model_3.predict([X1_val, X2_val, X3_val, X4_val, X5_val, X6_val])\n",
    "y_test_pred = model_3.predict([X1_test, X2_test, X3_test, X4_test, X5_test, X6_test])\n",
    "\n",
    "# Plot predictions vs actual values\n",
    "plt.figure(figsize=(15, 5))\n",
    "\n",
    "# Training set\n",
    "plt.subplot(1, 3, 1)\n",
    "plt.plot(y_train[-90:], label='Actual')\n",
    "plt.plot(y_train_pred[-90:], label='Predicted')\n",
    "plt.title('Training Set')\n",
    "plt.xlabel('Samples')\n",
    "plt.ylabel('Values')\n",
    "plt.legend()\n",
    "\n",
    "# Validation set\n",
    "plt.subplot(1, 3, 2)\n",
    "plt.plot(y_val[-90:], label='Actual')\n",
    "plt.plot(y_val_pred[-90:], label='Predicted')\n",
    "plt.title('Validation Set')\n",
    "plt.xlabel('Samples')\n",
    "plt.ylabel('Values')\n",
    "plt.legend()\n",
    "\n",
    "# Test set\n",
    "plt.subplot(1, 3, 3)\n",
    "plt.plot(y_test[-90:], label='Actual')\n",
    "plt.plot(y_test_pred[-90:], label='Predicted')\n",
    "plt.title('Test Set')\n",
    "plt.xlabel('Samples')\n",
    "plt.ylabel('Values')\n",
    "plt.legend()\n",
    "\n",
    "plt.tight_layout()\n",
    "plt.show()"
   ]
  },
  {
   "cell_type": "code",
   "execution_count": null,
   "id": "d6e8f449-d5d4-4407-8910-30e8334ef0c3",
   "metadata": {},
   "outputs": [],
   "source": [
    "# Evaluate the model on the validation set and calculate RMSE\n",
    "val_mse = mean_squared_error(y_val, y_val_pred)\n",
    "val_rmse = np.sqrt(val_mse)\n",
    "print(f'Validation RMSE for Dense Model: {val_rmse}')\n",
    "\n",
    "# Evaluate the model on the test set and calculate RMSE\n",
    "test_mse = mean_squared_error(y_test, y_test_pred)\n",
    "test_rmse = np.sqrt(test_mse)\n",
    "print(f'Test RMSE for Dense Model: {test_rmse}')"
   ]
  },
  {
   "cell_type": "code",
   "execution_count": null,
   "id": "8f41f7ff-3652-4f5b-911e-6a08100471a5",
   "metadata": {},
   "outputs": [],
   "source": [
    "# Evaluate the model on the validation set and calculate MAPE\n",
    "val_mape = mean_absolute_percentage_error(y_val, y_val_pred)\n",
    "print(f'Validation MAPE for Dense Model: {val_mape:.2%}')\n",
    "\n",
    "# Evaluate the model on the test set and calculate MAPE\n",
    "test_mape = mean_absolute_percentage_error(y_test, y_test_pred)\n",
    "print(f'Test MAPE for Dense Model: {test_mape:.2%}')"
   ]
  },
  {
   "cell_type": "code",
   "execution_count": null,
   "id": "4a97ab54-8ad1-4f87-bbe6-95d2a4e9eb57",
   "metadata": {},
   "outputs": [],
   "source": []
  }
 ],
 "metadata": {
  "kernelspec": {
   "display_name": "Python 3 (ipykernel)",
   "language": "python",
   "name": "python3"
  },
  "language_info": {
   "codemirror_mode": {
    "name": "ipython",
    "version": 3
   },
   "file_extension": ".py",
   "mimetype": "text/x-python",
   "name": "python",
   "nbconvert_exporter": "python",
   "pygments_lexer": "ipython3",
   "version": "3.12.4"
  }
 },
 "nbformat": 4,
 "nbformat_minor": 5
}
